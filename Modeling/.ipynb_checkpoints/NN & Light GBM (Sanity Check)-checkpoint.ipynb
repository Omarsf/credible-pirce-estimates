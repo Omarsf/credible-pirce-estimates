{
 "cells": [
  {
   "cell_type": "code",
   "execution_count": 2,
   "metadata": {},
   "outputs": [
    {
     "name": "stderr",
     "output_type": "stream",
     "text": [
      "Using TensorFlow backend.\n",
      "/Users/omar/anaconda3/lib/python3.6/site-packages/lightgbm/__init__.py:46: UserWarning: Starting from version 2.2.1, the library file in distribution wheels for macOS is built by the Apple Clang (Xcode_9.4.1) compiler.\n",
      "This means that in case of installing LightGBM from PyPI via the ``pip install lightgbm`` command, you don't need to install the gcc compiler anymore.\n",
      "Instead of that, you need to install the OpenMP library, which is required for running LightGBM on the system with the Apple Clang compiler.\n",
      "You can install the OpenMP library by the following command: ``brew install libomp``.\n",
      "  \"You can install the OpenMP library by the following command: ``brew install libomp``.\", UserWarning)\n"
     ]
    }
   ],
   "source": [
    "import pandas as pd\n",
    "from ast import literal_eval\n",
    "import requests\n",
    "import json\n",
    "import matplotlib.pyplot as plt\n",
    "import numpy as np\n",
    "import seaborn as sns\n",
    "import datetime\n",
    "import time\n",
    "import geopy\n",
    "import geopy.distance\n",
    "from geopy.distance import VincentyDistance\n",
    "from gmplot import gmplot\n",
    "from sklearn.mixture import GaussianMixture\n",
    "from sklearn.model_selection import train_test_split\n",
    "from scipy.spatial import Voronoi\n",
    "plt.style.use('fivethirtyeight')\n",
    "from tqdm import tqdm\n",
    "%matplotlib inline\n",
    "%config InlineBackend.figure_format = 'retina'\n",
    "\n",
    "# Preprocessing\n",
    "from sklearn import preprocessing\n",
    "\n",
    "\n",
    "import tensorflow as tf\n",
    "import keras as K\n",
    "from keras import layers as ll\n",
    "from keras import Sequential\n",
    "\n",
    "\n",
    "import lightgbm as lgb\n",
    "\n",
    "from scipy import random, linalg\n",
    "\n",
    "from scipy.stats import multivariate_normal\n",
    "from scipy.stats.distributions import norm\n",
    "import matplotlib.pyplot as pl"
   ]
  },
  {
   "cell_type": "code",
   "execution_count": null,
   "metadata": {
    "collapsed": true
   },
   "outputs": [],
   "source": []
  },
  {
   "cell_type": "code",
   "execution_count": 3,
   "metadata": {
    "collapsed": true
   },
   "outputs": [],
   "source": [
    "riyadh_land = pd.read_csv(\"riyadh_land.csv\")"
   ]
  },
  {
   "cell_type": "code",
   "execution_count": 4,
   "metadata": {
    "collapsed": true
   },
   "outputs": [],
   "source": [
    "riyadh_land['x'] = np.cos(riyadh_land.lat.values)*np.cos(riyadh_land.lng.values)\n",
    "riyadh_land['y'] = np.cos(riyadh_land.lat.values)*np.sin(riyadh_land.lng.values)\n",
    "riyadh_land['z'] = np.sin(riyadh_land.lat.values)"
   ]
  },
  {
   "cell_type": "code",
   "execution_count": 5,
   "metadata": {
    "collapsed": true
   },
   "outputs": [],
   "source": [
    "riyadh_land.street_width.fillna(riyadh_land.street_width.mean(), inplace=True)"
   ]
  },
  {
   "cell_type": "code",
   "execution_count": 6,
   "metadata": {
    "collapsed": true
   },
   "outputs": [],
   "source": [
    "price_limit = 7000\n",
    "min_price = 50\n",
    "features = ['x','y','z','street_direction','street_width']\n",
    "target = 'meter_price'\n",
    "all_features = riyadh_land[(riyadh_land['meter_price']<price_limit)&(riyadh_land['meter_price']>min_price)][features+[target]]"
   ]
  },
  {
   "cell_type": "markdown",
   "metadata": {},
   "source": [
    "### Train/Val/Test Split and Scale"
   ]
  },
  {
   "cell_type": "code",
   "execution_count": 7,
   "metadata": {
    "collapsed": true
   },
   "outputs": [],
   "source": [
    "per_train = 0.6\n",
    "per_val  = 0.2\n",
    "np.random.seed(42)\n",
    "\n",
    "n = len(all_features)\n",
    "n_train = int(per_train*n)\n",
    "n_val = int(per_val*n)\n",
    "n_test = n-(n_train+n_val)\n",
    "idx_all = np.arange(0,n)\n",
    "\n",
    "#Do we really have to create new objects with sklearn to split?\n",
    "\n",
    "train_idx = np.random.choice(idx_all,size = n_train,replace=False)\n",
    "val_idx   = np.random.choice(np.setdiff1d(idx_all,train_idx),size = n_val,replace=False)\n",
    "test_idx  = np.setdiff1d(idx_all,np.concatenate([val_idx, train_idx]))\n",
    "\n",
    "all_train = all_features.iloc[train_idx]\n",
    "all_val = all_features.iloc[val_idx]\n",
    "all_test = all_features.iloc[test_idx]"
   ]
  },
  {
   "cell_type": "code",
   "execution_count": 8,
   "metadata": {
    "collapsed": true
   },
   "outputs": [],
   "source": [
    "scaler_all = preprocessing.StandardScaler().fit(all_train.values)\n",
    "scaler_x  = preprocessing.StandardScaler().fit(all_train[features].values)\n",
    "#scaler_y=   preprocessing.StandardScaler().fit(all_train[target].values)\n",
    "\n",
    "\n",
    "all_train_s = scaler_all.transform(all_train.values)\n",
    "all_val_s =scaler_all.transform(all_val.values)\n",
    "all_test_s = scaler_all.transform(all_test.values)\n",
    "X_train = scaler_x.transform(all_train[features])\n",
    "X_val   = scaler_x.transform(all_val[features])\n",
    "X_test  = scaler_x.transform(all_test[features])\n",
    "\n",
    "y_train = all_train[target]\n",
    "y_val =all_val[target]\n",
    "y_test = all_test[target]"
   ]
  },
  {
   "cell_type": "markdown",
   "metadata": {},
   "source": [
    "### Binning prices"
   ]
  },
  {
   "cell_type": "code",
   "execution_count": 9,
   "metadata": {
    "collapsed": true
   },
   "outputs": [],
   "source": [
    "bin_size =500\n",
    "bins_range = np.arange(0,all_features[target].max(),bin_size)\n",
    "target_bins = pd.cut(all_features[target],bins = bins_range).astype(str)\n",
    "\n",
    "le = preprocessing.LabelEncoder()\n",
    "le.fit(target_bins)\n",
    "encoded_bins = le.transform(target_bins)\n",
    "\n",
    "# label encoding\n",
    "y_train_l_en = encoded_bins[train_idx]\n",
    "y_val_l_en  = encoded_bins[val_idx]\n",
    "y_test_l_en  = encoded_bins[test_idx]\n",
    "\n",
    "# onehot encoding\n",
    "onhot_en = pd.get_dummies(target_bins)\n",
    "y_train_o_en = onhot_en.iloc[train_idx]\n",
    "y_val_o_en =onhot_en.iloc[val_idx]\n",
    "y_test_o_en = onhot_en.iloc[test_idx]"
   ]
  },
  {
   "cell_type": "code",
   "execution_count": 10,
   "metadata": {},
   "outputs": [
    {
     "data": {
      "text/plain": [
       "(9192, 3064)"
      ]
     },
     "execution_count": 10,
     "metadata": {},
     "output_type": "execute_result"
    }
   ],
   "source": [
    "len(all_train_s),len(all_test_s)"
   ]
  },
  {
   "cell_type": "code",
   "execution_count": 11,
   "metadata": {
    "scrolled": false
   },
   "outputs": [
    {
     "data": {
      "image/png": "[encoded data removed]",
      "text/plain": [
       "<Figure size 432x288 with 1 Axes>"
      ]
     },
     "metadata": {
      "image/png": {
       "height": 244,
       "width": 412
      }
     },
     "output_type": "display_data"
    }
   ],
   "source": [
    "all_train.meter_price.hist(bins = 50);"
   ]
  },
  {
   "cell_type": "markdown",
   "metadata": {},
   "source": [
    "## Parameterizing P(price per meter | features) "
   ]
  },
  {
   "cell_type": "markdown",
   "metadata": {},
   "source": [
    "### Neural net"
   ]
  },
  {
   "cell_type": "code",
   "execution_count": 12,
   "metadata": {
    "collapsed": true
   },
   "outputs": [],
   "source": [
    "in_shape = X_train.shape[-1]\n",
    "out_shape = y_train_o_en.shape[-1]"
   ]
  },
  {
   "cell_type": "code",
   "execution_count": 13,
   "metadata": {
    "scrolled": false
   },
   "outputs": [
    {
     "name": "stdout",
     "output_type": "stream",
     "text": [
      "_________________________________________________________________\n",
      "Layer (type)                 Output Shape              Param #   \n",
      "=================================================================\n",
      "dense_1 (Dense)              (None, 300)               1800      \n",
      "_________________________________________________________________\n",
      "leaky_re_lu_1 (LeakyReLU)    (None, 300)               0         \n",
      "_________________________________________________________________\n",
      "dropout_1 (Dropout)          (None, 300)               0         \n",
      "_________________________________________________________________\n",
      "dense_2 (Dense)              (None, 300)               90300     \n",
      "_________________________________________________________________\n",
      "leaky_re_lu_2 (LeakyReLU)    (None, 300)               0         \n",
      "_________________________________________________________________\n",
      "dense_3 (Dense)              (None, 300)               90300     \n",
      "_________________________________________________________________\n",
      "leaky_re_lu_3 (LeakyReLU)    (None, 300)               0         \n",
      "_________________________________________________________________\n",
      "dense_4 (Dense)              (None, 14)                4214      \n",
      "=================================================================\n",
      "Total params: 186,614\n",
      "Trainable params: 186,614\n",
      "Non-trainable params: 0\n",
      "_________________________________________________________________\n"
     ]
    }
   ],
   "source": [
    "\n",
    "tf.reset_default_graph()\n",
    "s = tf.InteractiveSession()\n",
    "model = Sequential(name=\"mlp\")\n",
    "alpha = .01\n",
    "\n",
    "model.add(ll.InputLayer([in_shape]))\n",
    "\n",
    "#model.add(ll.BatchNormalization())\n",
    "model.add(ll.Dense(300))\n",
    "model.add(ll.LeakyReLU(alpha = alpha ))\n",
    "\n",
    "#model.add(ll.BatchNormalization())\n",
    "model.add(ll.Dropout(0.6))\n",
    "model.add(ll.Dense(300))\n",
    "model.add(ll.LeakyReLU(alpha = alpha))\n",
    "\n",
    "#model.add(ll.BatchNormalization())\n",
    "#model.add(ll.Dropout(0.99))\n",
    "model.add(ll.Dense(300))\n",
    "model.add(ll.LeakyReLU(alpha = alpha))\n",
    "\n",
    "# output layer\n",
    "model.add(ll.Dense(out_shape, activation='softmax'))\n",
    "\n",
    "# categorical_crossentropy \n",
    "# but applied for one-hot-encoded vectors\n",
    "opt =  K.optimizers.Adam(lr=0.001, beta_1=0.9, beta_2=0.999, epsilon=None, decay=0.0, amsgrad=False)\n",
    "model.compile(opt, \"categorical_crossentropy\", metrics=[\"accuracy\"],)\n",
    "model.summary()"
   ]
  },
  {
   "cell_type": "code",
   "execution_count": null,
   "metadata": {
    "scrolled": true
   },
   "outputs": [
    {
     "name": "stdout",
     "output_type": "stream",
     "text": [
      "Train on 9192 samples, validate on 3064 samples\n",
      "Epoch 1/1000\n"
     ]
    }
   ],
   "source": [
    "model.fit(X_train, y_train_o_en,validation_data=(X_val, y_val_o_en), epochs=1000,verbose =2,batch_size=64);\n"
   ]
  },
  {
   "cell_type": "code",
   "execution_count": 1,
   "metadata": {
    "scrolled": false
   },
   "outputs": [
    {
     "ename": "NameError",
     "evalue": "name 'plt' is not defined",
     "output_type": "error",
     "traceback": [
      "\u001b[0;31m---------------------------------------------------------------------------\u001b[0m",
      "\u001b[0;31mNameError\u001b[0m                                 Traceback (most recent call last)",
      "\u001b[0;32m<ipython-input-1-0f6e6486a3c7>\u001b[0m in \u001b[0;36m<module>\u001b[0;34m()\u001b[0m\n\u001b[1;32m      1\u001b[0m \u001b[0mind\u001b[0m \u001b[0;34m=\u001b[0m \u001b[0;36m41\u001b[0m\u001b[0;34m\u001b[0m\u001b[0;34m\u001b[0m\u001b[0m\n\u001b[0;32m----> 2\u001b[0;31m \u001b[0mplt\u001b[0m\u001b[0;34m.\u001b[0m\u001b[0mbar\u001b[0m\u001b[0;34m(\u001b[0m\u001b[0mx\u001b[0m \u001b[0;34m=\u001b[0m \u001b[0mnp\u001b[0m\u001b[0;34m.\u001b[0m\u001b[0marange\u001b[0m\u001b[0;34m(\u001b[0m\u001b[0;36m0\u001b[0m\u001b[0;34m,\u001b[0m\u001b[0mout_shape\u001b[0m\u001b[0;34m)\u001b[0m\u001b[0;34m,\u001b[0m\u001b[0mheight\u001b[0m \u001b[0;34m=\u001b[0m \u001b[0mmodel\u001b[0m\u001b[0;34m.\u001b[0m\u001b[0mpredict_proba\u001b[0m\u001b[0;34m(\u001b[0m\u001b[0mX_test\u001b[0m\u001b[0;34m)\u001b[0m\u001b[0;34m[\u001b[0m\u001b[0mind\u001b[0m\u001b[0;34m]\u001b[0m\u001b[0;34m)\u001b[0m\u001b[0;34m;\u001b[0m\u001b[0;34m\u001b[0m\u001b[0;34m\u001b[0m\u001b[0m\n\u001b[0m\u001b[1;32m      3\u001b[0m \u001b[0;34m\u001b[0m\u001b[0m\n\u001b[1;32m      4\u001b[0m \u001b[0mtick_labels\u001b[0m \u001b[0;34m=\u001b[0m \u001b[0mlist\u001b[0m\u001b[0;34m(\u001b[0m\u001b[0mtarget_bins\u001b[0m\u001b[0;34m.\u001b[0m\u001b[0munique\u001b[0m\u001b[0;34m(\u001b[0m\u001b[0;34m)\u001b[0m\u001b[0;34m[\u001b[0m\u001b[0;34m:\u001b[0m\u001b[0;34m-\u001b[0m\u001b[0;36m1\u001b[0m\u001b[0;34m]\u001b[0m\u001b[0;34m)\u001b[0m\u001b[0;34m\u001b[0m\u001b[0;34m\u001b[0m\u001b[0m\n\u001b[1;32m      5\u001b[0m \u001b[0mss\u001b[0m \u001b[0;34m=\u001b[0m \u001b[0;34m[\u001b[0m\u001b[0mfloat\u001b[0m\u001b[0;34m(\u001b[0m\u001b[0mi\u001b[0m\u001b[0;34m.\u001b[0m\u001b[0mstrip\u001b[0m\u001b[0;34m(\u001b[0m\u001b[0;34m'()[]'\u001b[0m\u001b[0;34m)\u001b[0m\u001b[0;34m.\u001b[0m\u001b[0msplit\u001b[0m\u001b[0;34m(\u001b[0m\u001b[0;34m','\u001b[0m\u001b[0;34m)\u001b[0m\u001b[0;34m[\u001b[0m\u001b[0;36m0\u001b[0m\u001b[0;34m]\u001b[0m\u001b[0;34m)\u001b[0m \u001b[0;32mfor\u001b[0m \u001b[0mi\u001b[0m \u001b[0;32min\u001b[0m \u001b[0mtick_labels\u001b[0m\u001b[0;34m]\u001b[0m\u001b[0;34m\u001b[0m\u001b[0;34m\u001b[0m\u001b[0m\n",
      "\u001b[0;31mNameError\u001b[0m: name 'plt' is not defined"
     ]
    }
   ],
   "source": [
    "ind = 41\n",
    "plt.bar(x = np.arange(0,out_shape),height = model.predict_proba(X_test)[ind]);\n",
    "\n",
    "tick_labels = list(target_bins.unique()[:-1])\n",
    "ss = [float(i.strip('()[]').split(',')[0]) for i in tick_labels]\n",
    "idx_sorted = sorted(range(len(ss)), key=lambda k: ss[k])\n",
    "tick_labels = [tick_labels[i] for i in idx_sorted]\n",
    "plt.xticks(ticks = np.arange(0,len(tick_labels)), labels = tick_labels, rotation=90);\n",
    "print('True price: '+ str(all_features[target].iloc[test_idx[ind]])+ ' sar')"
   ]
  },
  {
   "cell_type": "markdown",
   "metadata": {},
   "source": [
    "## Light GBM  (Gradient Boosted Machines)"
   ]
  },
  {
   "cell_type": "markdown",
   "metadata": {},
   "source": [
    "To tune check link: https://lightgbm.readthedocs.io/en/latest/Parameters-Tuning.html"
   ]
  },
  {
   "cell_type": "code",
   "execution_count": 14,
   "metadata": {
    "collapsed": true
   },
   "outputs": [],
   "source": [
    "lgb_params = {\n",
    "                'application': 'multiclass',\n",
    "               'feature_fraction': 1,\n",
    "               'metric': 'multi_logloss',\n",
    "               'nthread':16, \n",
    "               'min_data_in_leaf': 1000, \n",
    "               'bagging_fraction': 1, \n",
    "               'learning_rate': 0.1, \n",
    "               'objective': 'multiclass', \n",
    "               'bagging_seed': 1, \n",
    "               'num_leaves': 80,\n",
    "               'bagging_freq':1,\n",
    "               'max_depth': 7,\n",
    "               'verbose':1, \n",
    "               'min_child_weight': 0.01,\n",
    "                'num_class': out_shape\n",
    "              }"
   ]
  },
  {
   "cell_type": "code",
   "execution_count": null,
   "metadata": {
    "collapsed": true,
    "scrolled": true
   },
   "outputs": [],
   "source": [
    "model_lgb= lgb.train(lgb_params, train_set = lgb.Dataset(X_train, label=y_train_l_en),num_boost_round = 10000, \\\n",
    "                     valid_sets =  lgb.Dataset(X_val, label=y_val_l_en),early_stopping_rounds =100)"
   ]
  },
  {
   "cell_type": "code",
   "execution_count": 377,
   "metadata": {},
   "outputs": [
    {
     "data": {
      "image/png": "[encoded data removed]",
      "text/plain": [
       "<Figure size 432x288 with 1 Axes>"
      ]
     },
     "metadata": {
      "image/png": {
       "height": 277,
       "width": 459
      },
      "needs_background": "light"
     },
     "output_type": "display_data"
    }
   ],
   "source": [
    "lgb.plot_importance(model_lgb,importance_type ='split', max_num_features=20);"
   ]
  },
  {
   "cell_type": "code",
   "execution_count": 379,
   "metadata": {},
   "outputs": [
    {
     "name": "stdout",
     "output_type": "stream",
     "text": [
      "True price: 1850.0 sar\n"
     ]
    },
    {
     "data": {
      "image/png": "[encoded data removed]",
      "text/plain": [
       "<Figure size 432x288 with 1 Axes>"
      ]
     },
     "metadata": {
      "image/png": {
       "height": 319,
       "width": 409
      },
      "needs_background": "light"
     },
     "output_type": "display_data"
    }
   ],
   "source": [
    "ind = 16\n",
    "plt.bar(x = np.arange(0,out_shape),height = model_lgb.predict(X_test)[ind]);\n",
    "\n",
    "tick_labels = list(target_bins.unique()[:-1])\n",
    "ss = [float(i.strip('()[]').split(',')[0]) for i in tick_labels]\n",
    "idx_sorted = sorted(range(len(ss)), key=lambda k: ss[k])\n",
    "tick_labels = [tick_labels[i] for i in idx_sorted]\n",
    "plt.xticks(ticks = np.arange(0,len(tick_labels)), labels = tick_labels, rotation=90);\n",
    "print('True price: '+ str(all_features[target].iloc[test_idx[ind]])+ ' sar')"
   ]
  }
 ],
 "metadata": {
  "kernelspec": {
   "display_name": "Python 3",
   "language": "python",
   "name": "python3"
  },
  "language_info": {
   "codemirror_mode": {
    "name": "ipython",
    "version": 3
   },
   "file_extension": ".py",
   "mimetype": "text/x-python",
   "name": "python",
   "nbconvert_exporter": "python",
   "pygments_lexer": "ipython3",
   "version": "3.6.8"
  }
 },
 "nbformat": 4,
 "nbformat_minor": 2
}
