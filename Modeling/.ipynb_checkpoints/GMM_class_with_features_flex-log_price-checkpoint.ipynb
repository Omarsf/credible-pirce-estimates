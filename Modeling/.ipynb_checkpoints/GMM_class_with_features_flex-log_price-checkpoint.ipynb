{
 "cells": [
  {
   "cell_type": "code",
   "execution_count": 4,
   "metadata": {},
   "outputs": [],
   "source": [
    "import pandas as pd\n",
    "from ast import literal_eval\n",
    "import requests\n",
    "import json\n",
    "import matplotlib.pyplot as plt\n",
    "import numpy as np\n",
    "import seaborn as sns\n",
    "import datetime\n",
    "import time\n",
    "import geopy\n",
    "import geopy.distance\n",
    "from geopy.distance import VincentyDistance\n",
    "from gmplot import gmplot\n",
    "from sklearn.mixture import GaussianMixture\n",
    "from sklearn.model_selection import train_test_split\n",
    "from scipy.spatial import Voronoi\n",
    "from scipy.stats import multivariate_normal\n",
    "from scipy.stats.distributions import norm\n",
    "from sklearn.preprocessing import StandardScaler\n",
    "from scipy import random, linalg, sin,cos\n",
    "from scipy.stats import multivariate_normal\n",
    "import scipy\n",
    "import matplotlib.pyplot as plt\n",
    "\n",
    "import seaborn as sns\n",
    "plt.style.use('fivethirtyeight')\n",
    "\n",
    "%matplotlib inline\n",
    "%config InlineBackend.figure_format = 'retina'"
   ]
  },
  {
   "cell_type": "code",
   "execution_count": 5,
   "metadata": {},
   "outputs": [],
   "source": [
    "class Pipeline:   \n",
    "    \n",
    "    gmm = None\n",
    "\n",
    "    given_index=None\n",
    "    a_index=None\n",
    "    \n",
    "    a_scales = None\n",
    "    a_means = None\n",
    "    \n",
    "    a_mins = None\n",
    "    a_maxes = None\n",
    "    \n",
    "    posterior_resolution= None\n",
    "    \n",
    "    def __init__(self,gmm,given_index,a_index,a_means,a_scales,a_mins,a_maxes,posterior_resolution=1000):\n",
    "        self.gmm =gmm\n",
    "        self.given_index=given_index\n",
    "        self.a_index =a_index\n",
    "        self.a_scales=a_scales\n",
    "        self.a_means=a_means\n",
    "        self.a_mins=a_mins\n",
    "        self.a_maxes=a_maxes\n",
    "        self.posterior_resolution=posterior_resolution\n",
    "        \n",
    "    def set_a(self,a_index,a_means,a_scales,a_mins,a_maxes,posterior_resolution=1000):\n",
    "        self.a_index =a_index\n",
    "        self.a_scales=a_scales\n",
    "        self.a_means=a_means\n",
    "        self.a_mins=a_mins\n",
    "        self.a_maxes=a_maxes\n",
    "        self.posterior_resolution=posterior_resolution\n",
    "\n",
    "    def set_given_index(self,given_index):\n",
    "        self.given_index=given_index\n",
    "    \n",
    "    def conditional_multivariate(self,given_val,means,covariances):\n",
    "        \n",
    "        cov_aa = covariances[np.ix_(self.a_index,self.a_index)]\n",
    "        cov_bb = covariances[np.ix_(self.given_index,self.given_index)]\n",
    "        inv_bb = np.linalg.inv(cov_bb)\n",
    "\n",
    "        cov_ab = covariances[np.ix_(self.a_index,self.given_index)]\n",
    "        cov_ba = covariances[np.ix_(self.given_index,self.a_index)]\n",
    "\n",
    "        mean_a = means[np.ix_(self.a_index)]\n",
    "        mean_b = means[np.ix_(self.given_index)]\n",
    "\n",
    "        mean     = mean_a + np.matmul(np.matmul(cov_ab,inv_bb),(given_val-mean_b))\n",
    "        variance = cov_aa - np.matmul(np.matmul(cov_ab,inv_bb),(cov_ba))\n",
    "\n",
    "        return mean , variance\n",
    "\n",
    "\n",
    "    def conditional_gmm_means_variances(self,given_val,means,covariances):\n",
    "\n",
    "        gmm_means =[]\n",
    "        gmm_variances =[]\n",
    "\n",
    "        for i in range(len(means)):\n",
    "            means, variances = self.conditional_multivariate(given_val,self.gmm.means_[i],self.gmm.covariances_[i])\n",
    "            gmm_means.append(means)\n",
    "            gmm_variances.append(variances)\n",
    "\n",
    "        return gmm_means,gmm_variances\n",
    "\n",
    "    def marg_MVnorm(self,MVnorm_obj):\n",
    "\n",
    "        mu_b = MVnorm_obj.mean[np.ix_(self.given_index)]\n",
    "        cov_bb = MVnorm_obj.cov[np.ix_(self.given_index,self.given_index)]\n",
    "\n",
    "        if mu_b.shape[0]>=2:\n",
    "            Mv_marg = multivariate_normal(mu_b,cov_bb )\n",
    "        else:\n",
    "            Mv_marg = norm(mu_b[0],cov_bb[0])\n",
    "\n",
    "\n",
    "        return Mv_marg\n",
    "\n",
    "    def marg_weights(self,MVnorm_objs,given_val):\n",
    "        weights = []\n",
    "        sum =0\n",
    "        for MVnorm_obj in MVnorm_objs:\n",
    "            pdf = MVnorm_obj.pdf(given_val)\n",
    "            weights.append(pdf)\n",
    "            sum+=pdf\n",
    "        return weights/sum\n",
    "\n",
    "    def multivariate_cdf_dif(self,MVnorm_obj,lower_bound,upper_bound):\n",
    "        return MVnorm_obj.cdf(upper_bound)-MVnorm_obj.cdf(lower_bound)\n",
    "\n",
    "    def maxSum(self,arr, n, k): \n",
    "\n",
    "        if (n < k): \n",
    "\n",
    "            print(\"Invalid\") \n",
    "            return -1\n",
    "\n",
    "        max_sum = 0\n",
    "        start_point = 0\n",
    "        for i in range(k): \n",
    "            max_sum += arr[i] \n",
    "\n",
    "\n",
    "        curr_sum = max_sum \n",
    "        for i in range(k, n): \n",
    "\n",
    "            curr_sum += arr[i] - arr[i-k] \n",
    "            if curr_sum > max_sum:\n",
    "                max_sum=curr_sum\n",
    "                start_point = i-k+1\n",
    "\n",
    "        return max_sum,start_point \n",
    "\n",
    "\n",
    "\n",
    "    def get_dist_range(self,upper_bound_range,distribution,percentage):\n",
    "        n = len(distribution) \n",
    "        for i in range(1,n):\n",
    "            max_sum,start_point = self.maxSum(distribution, n, i)\n",
    "            if max_sum>percentage:\n",
    "                return upper_bound_range[start_point],upper_bound_range[start_point+i-1]\n",
    "        return upper_bound_range[start_point],upper_bound_range[start_point+i-1]\n",
    "        \n",
    "    def get_dist_mode(self,dist_range,distribution):\n",
    "        mode,mode_index=0,0\n",
    "        for i in range(len(distribution)):\n",
    "            if distribution[i]>mode:\n",
    "                mode_index,mode=i,distribution[i]\n",
    "        return dist_range[mode_index],mode_index\n",
    "    \n",
    "    def predict_with_cdf(self,given_val):\n",
    "\n",
    "        conditional_mvns =[]\n",
    "        conditional_means , conditional_variances = pipeline.conditional_gmm_means_variances(given_val,self.gmm.means_,self.gmm.covariances_)\n",
    "\n",
    "        marg_mvns = []\n",
    "\n",
    "        for i in range(len(self.gmm.means_)): \n",
    "            mvn = scipy.stats.multivariate_normal(self.gmm.means_[i],self.gmm.covariances_[i])\n",
    "            marg_mvns.append(pipeline.marg_MVnorm(mvn))\n",
    "\n",
    "        weights = pipeline.marg_weights(marg_mvns,given_val)\n",
    "\n",
    "        for i in range(len(conditional_means)):\n",
    "            conditional_mvns.append(scipy.stats.multivariate_normal(conditional_means[i],conditional_variances[i]))\n",
    "\n",
    "        dist_range = np.linspace(self.a_mins,self.a_maxes,self.posterior_resolution)\n",
    "        step_size=dist_range[1]-dist_range[0]\n",
    "        lower_bound_range = dist_range[:-1]\n",
    "        \n",
    "        upper_bound_range = dist_range[1:]\n",
    "        \n",
    "        m2 = np.array([pipeline.multivariate_cdf_dif(conditional_mvns[i],lower_bound_range,upper_bound_range) for i in range(len(conditional_mvns))])\n",
    "        dist = np.dot(m2.T,weights)\n",
    "\n",
    "        dist_mode,mode_index = pipeline.get_dist_mode(dist_range,dist)\n",
    "        return(dist_mode*self.a_scales+self.a_means,dist,mode_index,upper_bound_range*self.a_scales+self.a_means)\n",
    "\n",
    "\n",
    "    def predict_with_pdf(self,given_val):\n",
    "\n",
    "        conditional_mvns =[]\n",
    "        conditional_means , conditional_variances = pipeline.conditional_gmm_means_variances(given_val,self.gmm.means_,self.gmm.covariances_)\n",
    "\n",
    "        marg_mvns = []\n",
    "\n",
    "        for i in range(len(gmm.means_)):\n",
    "            mvn = scipy.stats.multivariate_normal(self.gmm.means_[i],self.gmm.covariances_[i])\n",
    "            marg_mvns.append(pipeline.marg_MVnorm(mvn))\n",
    "\n",
    "        weights = pipeline.marg_weights(marg_mvns,given_val)\n",
    "\n",
    "        for i in range(len(conditional_means)):\n",
    "            conditional_mvns.append(scipy.stats.multivariate_normal(conditional_means[i],conditional_variances[i]))\n",
    "\n",
    "        dist_range = np.linspace(self.a_mins,self.a_maxes,self.posterior_resolution)\n",
    "        step_size=dist_range[1]-dist_range[0]\n",
    "        \n",
    "        m = np.array([conditional_mvns[i].pdf(dist_range) for i in range(len(conditional_mvns))])\n",
    "        dist = np.dot(m.T,weights)\n",
    "\n",
    "        dist_mode,mode_index = pipeline.get_dist_mode(dist_range,dist)\n",
    "        return(dist_mode*self.a_scales+self.a_means,dist,mode_index,dist_range*self.a_scales+self.a_means)\n"
   ]
  },
  {
   "cell_type": "code",
   "execution_count": 6,
   "metadata": {},
   "outputs": [],
   "source": [
    "def map_coordinates(coordinates):\n",
    "    lat,lon =np.array([ float(coord) for coord in coordinates.split(',')])\n",
    "    x = cos(lat) * cos(lon)\n",
    "    y = cos(lat) * sin(lon)\n",
    "    z = sin(lat)\n",
    "    return x,y,z   \n"
   ]
  },
  {
   "cell_type": "code",
   "execution_count": 7,
   "metadata": {},
   "outputs": [],
   "source": [
    "riyadh_land = pd.read_csv(\"riyadh_land_with_poi.csv\")\n",
    "riyadh_land=riyadh_land[(riyadh_land['meter_price']<7000)&(riyadh_land['meter_price']>50)]\n",
    "riyadh_land['x'],riyadh_land['y'],riyadh_land['z']=riyadh_land.location_str.map(lambda x: map_coordinates(x)[0]),riyadh_land.location_str.map(lambda x: map_coordinates(x)[1]),riyadh_land.location_str.map(lambda x: map_coordinates(x)[2])"
   ]
  },
  {
   "cell_type": "code",
   "execution_count": 8,
   "metadata": {},
   "outputs": [],
   "source": [
    "all_columns = ['x','y','z','location_str','hospitals','schools','meter_price']\n",
    "\n",
    "given_columns = ['x','y','z','hospitals','schools']\n",
    "a_columns = ['meter_price']\n",
    "\n",
    "gmm_columns=given_columns+a_columns\n",
    "\n",
    "X = riyadh_land[all_columns]\n",
    "ss = StandardScaler()\n",
    "\n",
    "X_train, X_test= train_test_split(X, test_size=0.33, random_state=42)\n",
    "\n",
    "X_train_location = X_train.location_str.values\n",
    "X_test_location = X_test.location_str.values\n",
    "\n",
    "y_train = X_train.meter_price\n",
    "y_test  = X_test.meter_price\n",
    "\n",
    "X_train = X_train[gmm_columns]\n",
    "X_test = X_test[gmm_columns]\n",
    "\n",
    "X_train = ss.fit_transform(X_train)\n",
    "X_test = ss.transform(X_test)\n",
    "\n",
    "X_train=pd.DataFrame(X_train,columns=gmm_columns)\n",
    "X_test=pd.DataFrame(X_test,columns=gmm_columns)\n"
   ]
  },
  {
   "cell_type": "code",
   "execution_count": 9,
   "metadata": {},
   "outputs": [
    {
     "data": {
      "text/html": [
       "<div>\n",
       "<style scoped>\n",
       "    .dataframe tbody tr th:only-of-type {\n",
       "        vertical-align: middle;\n",
       "    }\n",
       "\n",
       "    .dataframe tbody tr th {\n",
       "        vertical-align: top;\n",
       "    }\n",
       "\n",
       "    .dataframe thead th {\n",
       "        text-align: right;\n",
       "    }\n",
       "</style>\n",
       "<table border=\"1\" class=\"dataframe\">\n",
       "  <thead>\n",
       "    <tr style=\"text-align: right;\">\n",
       "      <th></th>\n",
       "      <th>x</th>\n",
       "      <th>y</th>\n",
       "      <th>z</th>\n",
       "      <th>hospitals</th>\n",
       "      <th>schools</th>\n",
       "      <th>meter_price</th>\n",
       "    </tr>\n",
       "  </thead>\n",
       "  <tbody>\n",
       "    <tr>\n",
       "      <th>0</th>\n",
       "      <td>-0.742036</td>\n",
       "      <td>0.145938</td>\n",
       "      <td>0.959383</td>\n",
       "      <td>-0.246897</td>\n",
       "      <td>-1.070419</td>\n",
       "      <td>-0.667289</td>\n",
       "    </tr>\n",
       "    <tr>\n",
       "      <th>1</th>\n",
       "      <td>-0.420859</td>\n",
       "      <td>0.103036</td>\n",
       "      <td>0.374988</td>\n",
       "      <td>1.979300</td>\n",
       "      <td>1.223022</td>\n",
       "      <td>0.361331</td>\n",
       "    </tr>\n",
       "    <tr>\n",
       "      <th>2</th>\n",
       "      <td>0.402285</td>\n",
       "      <td>0.941528</td>\n",
       "      <td>0.143281</td>\n",
       "      <td>-0.432414</td>\n",
       "      <td>0.225874</td>\n",
       "      <td>0.361331</td>\n",
       "    </tr>\n",
       "    <tr>\n",
       "      <th>3</th>\n",
       "      <td>0.214727</td>\n",
       "      <td>0.504346</td>\n",
       "      <td>-0.077185</td>\n",
       "      <td>0.680685</td>\n",
       "      <td>0.824163</td>\n",
       "      <td>0.875641</td>\n",
       "    </tr>\n",
       "    <tr>\n",
       "      <th>4</th>\n",
       "      <td>-0.435761</td>\n",
       "      <td>0.553199</td>\n",
       "      <td>0.940753</td>\n",
       "      <td>-0.617930</td>\n",
       "      <td>-0.521987</td>\n",
       "      <td>-0.527022</td>\n",
       "    </tr>\n",
       "  </tbody>\n",
       "</table>\n",
       "</div>"
      ],
      "text/plain": [
       "          x         y         z  hospitals   schools  meter_price\n",
       "0 -0.742036  0.145938  0.959383  -0.246897 -1.070419    -0.667289\n",
       "1 -0.420859  0.103036  0.374988   1.979300  1.223022     0.361331\n",
       "2  0.402285  0.941528  0.143281  -0.432414  0.225874     0.361331\n",
       "3  0.214727  0.504346 -0.077185   0.680685  0.824163     0.875641\n",
       "4 -0.435761  0.553199  0.940753  -0.617930 -0.521987    -0.527022"
      ]
     },
     "execution_count": 9,
     "metadata": {},
     "output_type": "execute_result"
    }
   ],
   "source": [
    "X_train.head()"
   ]
  },
  {
   "cell_type": "code",
   "execution_count": 10,
   "metadata": {},
   "outputs": [],
   "source": [
    "#here bic and aic were evaluated and elbow for penalized-likelihood criteria was found at around 80 clusters\n",
    "gmm = GaussianMixture(n_components=80,max_iter=500,random_state=42).fit(X_train)"
   ]
  },
  {
   "cell_type": "code",
   "execution_count": 11,
   "metadata": {},
   "outputs": [],
   "source": [
    "index_dict = {column:i for i,column in enumerate(gmm_columns)}"
   ]
  },
  {
   "cell_type": "code",
   "execution_count": 12,
   "metadata": {},
   "outputs": [],
   "source": [
    "given_index=[index_dict[column] for column in given_columns]\n",
    "a_index=[index_dict[column] for column in a_columns]\n",
    "ss.mean_[np.ix_(a_index)]\n",
    "a_min = X_test[a_columns].min()\n",
    "a_max = X_test[a_columns].max()\n",
    "pipeline = Pipeline(gmm,given_index,a_index,ss.mean_[np.ix_(a_index)],ss.scale_[np.ix_(a_index)],a_min,a_max)"
   ]
  },
  {
   "cell_type": "code",
   "execution_count": 10,
   "metadata": {},
   "outputs": [
    {
     "data": {
      "text/plain": [
       "([0, 1, 2], [5])"
      ]
     },
     "execution_count": 10,
     "metadata": {},
     "output_type": "execute_result"
    }
   ],
   "source": [
    "# This is to predict using location only, namly normalized x,y and z which are directly derived from lat and lng\n",
    "pipeline.set_given_index([0,1,2])\n",
    "# Set index of intended input for prediction and target\n",
    "pipeline.given_index,pipeline.a_index"
   ]
  },
  {
   "cell_type": "code",
   "execution_count": 16,
   "metadata": {},
   "outputs": [
    {
     "data": {
      "text/plain": [
       "{'a_index': [4],\n",
       " 'a_maxes': 2.170312543737802,\n",
       " 'a_means': 36.46960249415432,\n",
       " 'a_mins': -1.8182796457938497,\n",
       " 'a_scales': 20.05720219027801}"
      ]
     },
     "execution_count": 16,
     "metadata": {},
     "output_type": "execute_result"
    }
   ],
   "source": [
    "a_tag = 'schools'\n",
    "a_index = index_dict[a_tag]\n",
    "a={\n",
    "\"a_index\" : [a_index],\n",
    "\"a_means\" : ss.mean_[a_index],\n",
    "\"a_scales\": ss.scale_[a_index],\n",
    "\"a_mins\"  : X_train[[a_tag]].values.min(),\n",
    "\"a_maxes\" : X_train[[a_tag]].values.max()\n",
    "}\n",
    "#pipeline.set_a(**a)  <- For example uncomment to set schools as target\n",
    "a"
   ]
  },
  {
   "cell_type": "code",
   "execution_count": 11,
   "metadata": {},
   "outputs": [
    {
     "data": {
      "text/plain": [
       "(80, 6, 6)"
      ]
     },
     "execution_count": 11,
     "metadata": {},
     "output_type": "execute_result"
    }
   ],
   "source": [
    "(gmm.covariances_).shape"
   ]
  },
  {
   "cell_type": "code",
   "execution_count": 12,
   "metadata": {},
   "outputs": [
    {
     "data": {
      "image/png": "[encoded data removed]",
      "text/plain": [
       "<Figure size 432x288 with 1 Axes>"
      ]
     },
     "metadata": {
      "image/png": {
       "height": 244,
       "width": 408
      },
      "needs_background": "light"
     },
     "output_type": "display_data"
    }
   ],
   "source": [
    "sns.scatterplot(list(zip(*gmm.means_))[0],list(zip(*gmm.means_))[1]);"
   ]
  },
  {
   "cell_type": "code",
   "execution_count": 13,
   "metadata": {},
   "outputs": [
    {
     "data": {
      "text/plain": [
       "array([2600., 5500., 1500., ..., 2500., 1700., 3500.])"
      ]
     },
     "execution_count": 13,
     "metadata": {},
     "output_type": "execute_result"
    }
   ],
   "source": [
    "\n",
    "y_test.values"
   ]
  },
  {
   "cell_type": "code",
   "execution_count": 14,
   "metadata": {},
   "outputs": [
    {
     "name": "stdout",
     "output_type": "stream",
     "text": [
      "0 100 200 300 400 500 600 700 800 900 1000 1100 1200 1300 1400 1500 1600 1700 1800 1900 2000 2100 2200 2300 2400 2500 2600 2700 2800 2900 3000 3100 3200 3300 3400 3500 3600 3700 3800 3900 4000 4100 4200 4300 4400 4500 4600 4700 4800 4900 5000 "
     ]
    }
   ],
   "source": [
    "y_hat_test =[]\n",
    "y_true_test=[]\n",
    "\n",
    "for i,observation in enumerate(X_test.values):\n",
    "    if i%100==0:\n",
    "        print(i, end=\" \")\n",
    "    prediction,dist,prediction_index,predicted_range = pipeline.predict_with_pdf(observation[np.ix_(pipeline.given_index)])\n",
    "    y_hat_test.append(prediction)\n",
    "    y_true_test.append(X_test.values[i][np.ix_(pipeline.a_index)]*ss.scale_[np.ix_(pipeline.a_index)]+ss.mean_[np.ix_(pipeline.a_index)])\n",
    "    #print(\"y_hat {} y {}\".format(prediction,y_true_test[-1]))\n",
    "\n"
   ]
  },
  {
   "cell_type": "code",
   "execution_count": 3,
   "metadata": {},
   "outputs": [
    {
     "ename": "NameError",
     "evalue": "name 'y_true_test' is not defined",
     "output_type": "error",
     "traceback": [
      "\u001b[0;31m---------------------------------------------------------------------------\u001b[0m",
      "\u001b[0;31mNameError\u001b[0m                                 Traceback (most recent call last)",
      "\u001b[0;32m<ipython-input-3-60c83753b94a>\u001b[0m in \u001b[0;36m<module>\u001b[0;34m\u001b[0m\n\u001b[1;32m      1\u001b[0m \u001b[0;32mfrom\u001b[0m \u001b[0msklearn\u001b[0m\u001b[0;34m.\u001b[0m\u001b[0mmetrics\u001b[0m \u001b[0;32mimport\u001b[0m \u001b[0mr2_score\u001b[0m\u001b[0;34m\u001b[0m\u001b[0;34m\u001b[0m\u001b[0m\n\u001b[0;32m----> 2\u001b[0;31m \u001b[0mr2_score\u001b[0m\u001b[0;34m(\u001b[0m\u001b[0my_true_test\u001b[0m\u001b[0;34m,\u001b[0m \u001b[0my_hat_test\u001b[0m\u001b[0;34m)\u001b[0m\u001b[0;34m\u001b[0m\u001b[0;34m\u001b[0m\u001b[0m\n\u001b[0m",
      "\u001b[0;31mNameError\u001b[0m: name 'y_true_test' is not defined"
     ]
    }
   ],
   "source": [
    "from sklearn.metrics import r2_score\n",
    "r2_score(y_true_test, y_hat_test)"
   ]
  },
  {
   "cell_type": "code",
   "execution_count": 22,
   "metadata": {},
   "outputs": [
    {
     "data": {
      "text/plain": [
       "387.87794360816514"
      ]
     },
     "execution_count": 22,
     "metadata": {},
     "output_type": "execute_result"
    }
   ],
   "source": [
    "from sklearn.metrics import mean_absolute_error\n",
    "mean_absolute_error(y_test.values, y_hat_test)#,np.mean(np.abs((y_test.values - y_hat_test) / y_test.values)) * 100"
   ]
  },
  {
   "cell_type": "code",
   "execution_count": 23,
   "metadata": {},
   "outputs": [
    {
     "data": {
      "text/plain": [
       "0    1200.0\n",
       "1    2300.0\n",
       "2    2300.0\n",
       "3    2850.0\n",
       "4    1350.0\n",
       "Name: meter_price, dtype: float64"
      ]
     },
     "execution_count": 23,
     "metadata": {},
     "output_type": "execute_result"
    }
   ],
   "source": [
    "y_train = X_train.meter_price*pipeline.a_scales+pipeline.a_means\n",
    "y_train.head()"
   ]
  },
  {
   "cell_type": "code",
   "execution_count": 24,
   "metadata": {
    "collapsed": true
   },
   "outputs": [],
   "source": [
    "X_train.meter_price = (X_train.meter_price- ss.mean_[3])/ss.scale_[3]"
   ]
  },
  {
   "cell_type": "code",
   "execution_count": 25,
   "metadata": {},
   "outputs": [
    {
     "data": {
      "text/html": [
       "<div>\n",
       "<style>\n",
       "    .dataframe thead tr:only-child th {\n",
       "        text-align: right;\n",
       "    }\n",
       "\n",
       "    .dataframe thead th {\n",
       "        text-align: left;\n",
       "    }\n",
       "\n",
       "    .dataframe tbody tr th {\n",
       "        vertical-align: top;\n",
       "    }\n",
       "</style>\n",
       "<table border=\"1\" class=\"dataframe\">\n",
       "  <thead>\n",
       "    <tr style=\"text-align: right;\">\n",
       "      <th></th>\n",
       "      <th>x</th>\n",
       "      <th>y</th>\n",
       "      <th>z</th>\n",
       "      <th>hospitals</th>\n",
       "      <th>schools</th>\n",
       "      <th>meter_price</th>\n",
       "    </tr>\n",
       "  </thead>\n",
       "  <tbody>\n",
       "    <tr>\n",
       "      <th>0</th>\n",
       "      <td>0.063706</td>\n",
       "      <td>0.662906</td>\n",
       "      <td>0.285012</td>\n",
       "      <td>0.866201</td>\n",
       "      <td>1.073450</td>\n",
       "      <td>0.641863</td>\n",
       "    </tr>\n",
       "    <tr>\n",
       "      <th>1</th>\n",
       "      <td>0.397087</td>\n",
       "      <td>0.503154</td>\n",
       "      <td>-0.293803</td>\n",
       "      <td>-0.061381</td>\n",
       "      <td>0.126159</td>\n",
       "      <td>3.353679</td>\n",
       "    </tr>\n",
       "    <tr>\n",
       "      <th>2</th>\n",
       "      <td>-1.160375</td>\n",
       "      <td>-1.725404</td>\n",
       "      <td>-0.041166</td>\n",
       "      <td>-0.246897</td>\n",
       "      <td>0.674590</td>\n",
       "      <td>-0.386756</td>\n",
       "    </tr>\n",
       "    <tr>\n",
       "      <th>3</th>\n",
       "      <td>2.226432</td>\n",
       "      <td>1.238813</td>\n",
       "      <td>-1.359753</td>\n",
       "      <td>-1.174480</td>\n",
       "      <td>-1.618850</td>\n",
       "      <td>-1.228354</td>\n",
       "    </tr>\n",
       "    <tr>\n",
       "      <th>4</th>\n",
       "      <td>-0.715846</td>\n",
       "      <td>-0.064342</td>\n",
       "      <td>0.658957</td>\n",
       "      <td>0.124136</td>\n",
       "      <td>-0.023413</td>\n",
       "      <td>-0.012713</td>\n",
       "    </tr>\n",
       "  </tbody>\n",
       "</table>\n",
       "</div>"
      ],
      "text/plain": [
       "          x         y         z  hospitals   schools  meter_price\n",
       "0  0.063706  0.662906  0.285012   0.866201  1.073450     0.641863\n",
       "1  0.397087  0.503154 -0.293803  -0.061381  0.126159     3.353679\n",
       "2 -1.160375 -1.725404 -0.041166  -0.246897  0.674590    -0.386756\n",
       "3  2.226432  1.238813 -1.359753  -1.174480 -1.618850    -1.228354\n",
       "4 -0.715846 -0.064342  0.658957   0.124136 -0.023413    -0.012713"
      ]
     },
     "execution_count": 25,
     "metadata": {},
     "output_type": "execute_result"
    }
   ],
   "source": [
    "X_test.head()"
   ]
  },
  {
   "cell_type": "code",
   "execution_count": 26,
   "metadata": {},
   "outputs": [
    {
     "data": {
      "text/html": [
       "<div>\n",
       "<style>\n",
       "    .dataframe thead tr:only-child th {\n",
       "        text-align: right;\n",
       "    }\n",
       "\n",
       "    .dataframe thead th {\n",
       "        text-align: left;\n",
       "    }\n",
       "\n",
       "    .dataframe tbody tr th {\n",
       "        vertical-align: top;\n",
       "    }\n",
       "</style>\n",
       "<table border=\"1\" class=\"dataframe\">\n",
       "  <thead>\n",
       "    <tr style=\"text-align: right;\">\n",
       "      <th></th>\n",
       "      <th>x</th>\n",
       "      <th>y</th>\n",
       "      <th>z</th>\n",
       "      <th>hospitals</th>\n",
       "      <th>schools</th>\n",
       "      <th>meter_price</th>\n",
       "    </tr>\n",
       "  </thead>\n",
       "  <tbody>\n",
       "    <tr>\n",
       "      <th>0</th>\n",
       "      <td>-0.742036</td>\n",
       "      <td>0.145938</td>\n",
       "      <td>0.959383</td>\n",
       "      <td>-0.246897</td>\n",
       "      <td>-1.070419</td>\n",
       "      <td>-1.669305</td>\n",
       "    </tr>\n",
       "    <tr>\n",
       "      <th>1</th>\n",
       "      <td>-0.420859</td>\n",
       "      <td>0.103036</td>\n",
       "      <td>0.374988</td>\n",
       "      <td>1.979300</td>\n",
       "      <td>1.223022</td>\n",
       "      <td>-1.478480</td>\n",
       "    </tr>\n",
       "    <tr>\n",
       "      <th>2</th>\n",
       "      <td>0.402285</td>\n",
       "      <td>0.941528</td>\n",
       "      <td>0.143281</td>\n",
       "      <td>-0.432414</td>\n",
       "      <td>0.225874</td>\n",
       "      <td>-1.478480</td>\n",
       "    </tr>\n",
       "    <tr>\n",
       "      <th>3</th>\n",
       "      <td>0.214727</td>\n",
       "      <td>0.504346</td>\n",
       "      <td>-0.077185</td>\n",
       "      <td>0.680685</td>\n",
       "      <td>0.824163</td>\n",
       "      <td>-1.383067</td>\n",
       "    </tr>\n",
       "    <tr>\n",
       "      <th>4</th>\n",
       "      <td>-0.435761</td>\n",
       "      <td>0.553199</td>\n",
       "      <td>0.940753</td>\n",
       "      <td>-0.617930</td>\n",
       "      <td>-0.521987</td>\n",
       "      <td>-1.643284</td>\n",
       "    </tr>\n",
       "  </tbody>\n",
       "</table>\n",
       "</div>"
      ],
      "text/plain": [
       "          x         y         z  hospitals   schools  meter_price\n",
       "0 -0.742036  0.145938  0.959383  -0.246897 -1.070419    -1.669305\n",
       "1 -0.420859  0.103036  0.374988   1.979300  1.223022    -1.478480\n",
       "2  0.402285  0.941528  0.143281  -0.432414  0.225874    -1.478480\n",
       "3  0.214727  0.504346 -0.077185   0.680685  0.824163    -1.383067\n",
       "4 -0.435761  0.553199  0.940753  -0.617930 -0.521987    -1.643284"
      ]
     },
     "execution_count": 26,
     "metadata": {},
     "output_type": "execute_result"
    }
   ],
   "source": [
    "X_train.head()"
   ]
  },
  {
   "cell_type": "code",
   "execution_count": 27,
   "metadata": {
    "collapsed": true
   },
   "outputs": [],
   "source": [
    "X_train2 =X_train.drop(['meter_price'],axis=1)"
   ]
  },
  {
   "cell_type": "code",
   "execution_count": 66,
   "metadata": {},
   "outputs": [
    {
     "name": "stdout",
     "output_type": "stream",
     "text": [
      "[0, 1, 2]\n",
      "0: y_hat 13.767767767767769 y 13.0\n",
      "1: y_hat 8.426426426426428 y 8.0\n",
      "2: y_hat 7.942942942942944 y 7.0\n",
      "3: y_hat 1.864864864864864 y 2.0\n",
      "4: y_hat 11.994994994994995 y 9.0\n",
      "5: y_hat 2.5095095095095106 y 2.0\n",
      "6: y_hat 12.04104104104104 y 11.0\n",
      "7: y_hat 5.341341341341341 y 5.0\n",
      "8: y_hat 1.5425425425425425 y 2.0\n",
      "9: y_hat 5.502502502502503 y 6.0\n"
     ]
    }
   ],
   "source": [
    "y_hat_train =[]\n",
    "y_true_train=[]\n",
    "print(pipeline.given_index)\n",
    "for i,observation in enumerate(X_test.values[0:10]):\n",
    "    prediction,dist,prediction_index,predicted_range = pipeline.predict_with_pdf(observation[np.ix_(pipeline.given_index)])\n",
    "    y_true_train.append((observation[3]*ss.scale_[3]+ss.mean_[3]))\n",
    "    y_hat_train.append(prediction)\n",
    "    print(\"{}: y_hat {} y {}\".format(i,prediction,y_true_train[-1]))"
   ]
  },
  {
   "cell_type": "code",
   "execution_count": 31,
   "metadata": {},
   "outputs": [
    {
     "data": {
      "text/plain": [
       "Index(['x', 'y', 'z', 'hospitals', 'schools', 'meter_price'], dtype='object')"
      ]
     },
     "execution_count": 31,
     "metadata": {},
     "output_type": "execute_result"
    }
   ],
   "source": [
    "X_train.columns"
   ]
  },
  {
   "cell_type": "code",
   "execution_count": 28,
   "metadata": {},
   "outputs": [
    {
     "data": {
      "image/png": "[encoded data removed]",
      "text/plain": [
       "<Figure size 842.4x595.44 with 1 Axes>"
      ]
     },
     "metadata": {
      "image/png": {
       "height": 503,
       "width": 804
      }
     },
     "output_type": "display_data"
    },
    {
     "data": {
      "text/plain": [
       "<Figure size 842.4x595.44 with 0 Axes>"
      ]
     },
     "metadata": {},
     "output_type": "display_data"
    }
   ],
   "source": [
    "my_dict={}\n",
    "credible_region=0.95\n",
    "for i, coordinate in enumerate(X_test.values[0:1]):\n",
    "    is_error=False\n",
    "    lat,lng = X_test_location[i].split(',')\n",
    "    lat,lng= round(float(lat),4),round(float(lng),4)\n",
    "    prediction,dist,prediction_index,predicted_range = pipeline.predict_with_cdf(coordinate[np.ix_(pipeline.given_index)])\n",
    "    sns.set(rc={'figure.figsize':(11.7,8.27)})\n",
    "    ax=sns.lineplot(predicted_range,dist)\n",
    "    \n",
    "    try:\n",
    "        min_credible,max_credible = pipeline.get_dist_range(predicted_range,dist,credible_region)\n",
    "    \n",
    "    except:\n",
    "        is_error=True\n",
    "        \n",
    "    classification_entry ={'lat':lat,'lng':lng,'y_hat':prediction,#'distribution':dist,\n",
    "                           'min_credible':min_credible,\"max_credible\":max_credible,\n",
    "                           \"credible_region\":credible_region,\"y_true\":y_test.values[i],\n",
    "                           \"error\":is_error,\n",
    "                          \"inside_credible_region\": (y_test.values[i]>min_credible and y_test.values[i]<max_credible)}\n",
    "    my_dict[i]=classification_entry\n",
    "    \n",
    "    ax.axvline(prediction, lw=3, ls='dashed', color='green',label='y_hat={}'.format(np.round(prediction,2)))\n",
    "    ax.axvline(X_test.values[i][np.ix_(pipeline.a_index)]*ss.scale_[np.ix_(pipeline.a_index)]+ss.mean_[np.ix_(pipeline.a_index)], lw=3, ls='dashed', color='red',label='y_true={}'.format(X_test.values[i][np.ix_(pipeline.a_index)]*ss.scale_[np.ix_(pipeline.a_index)]+ss.mean_[np.ix_(pipeline.a_index)]))\n",
    "    ax.axvline(min_credible, lw=2, ls='dashed', color='magenta',label='0.95 Credible Region\\nmin={} max={}'.format(round(min_credible,2),round(max_credible,2)))\n",
    "    ax.axvline(max_credible, lw=2, ls='dashed', color='magenta')\n",
    "    ax.set_xlabel(\"{}\".format(a_tag.capitalize()),fontsize=14)\n",
    "    ax.set_ylabel(\"P({} | (lat = {} , lng = {})) \".format(a_tag.capitalize(),lat,lng),fontsize=14)\n",
    "    ax.legend();\n",
    "    fig = ax.get_figure();\n",
    "    plt.figure();\n",
    "    fig.savefig(\"test__{}.png\".format(i)) \n",
    "    ax=None\n"
   ]
  },
  {
   "cell_type": "code",
   "execution_count": 17,
   "metadata": {
    "collapsed": true
   },
   "outputs": [],
   "source": [
    "my_dict2 = pd.DataFrame(my_dict).T"
   ]
  },
  {
   "cell_type": "code",
   "execution_count": 18,
   "metadata": {
    "collapsed": true
   },
   "outputs": [],
   "source": [
    "my_dict2.to_csv('price_credible_region_2019_feb_7_2.csv',index=False)"
   ]
  }
 ],
 "metadata": {
  "kernelspec": {
   "display_name": "Python 3",
   "language": "python",
   "name": "python3"
  },
  "language_info": {
   "codemirror_mode": {
    "name": "ipython",
    "version": 3
   },
   "file_extension": ".py",
   "mimetype": "text/x-python",
   "name": "python",
   "nbconvert_exporter": "python",
   "pygments_lexer": "ipython3",
   "version": "3.7.1"
  }
 },
 "nbformat": 4,
 "nbformat_minor": 2
}
