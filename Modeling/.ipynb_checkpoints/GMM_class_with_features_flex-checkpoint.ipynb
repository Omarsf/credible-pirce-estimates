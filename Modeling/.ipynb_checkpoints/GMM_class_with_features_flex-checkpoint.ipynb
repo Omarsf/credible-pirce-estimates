{
 "cells": [
  {
   "cell_type": "code",
   "execution_count": 1,
   "metadata": {
    "collapsed": true
   },
   "outputs": [],
   "source": [
    "import pandas as pd\n",
    "from ast import literal_eval\n",
    "import requests\n",
    "import json\n",
    "import matplotlib.pyplot as plt\n",
    "import numpy as np\n",
    "import seaborn as sns\n",
    "import datetime\n",
    "import time\n",
    "import geopy\n",
    "import geopy.distance\n",
    "from geopy.distance import VincentyDistance\n",
    "from gmplot import gmplot\n",
    "from sklearn.mixture import GaussianMixture\n",
    "from sklearn.model_selection import train_test_split\n",
    "from scipy.spatial import Voronoi\n",
    "from scipy.stats import multivariate_normal\n",
    "from scipy.stats.distributions import norm\n",
    "from sklearn.preprocessing import StandardScaler\n",
    "from scipy import random, linalg, sin,cos\n",
    "from scipy.stats import multivariate_normal\n",
    "import scipy\n",
    "import matplotlib.pyplot as plt\n",
    "\n",
    "import seaborn as sns\n",
    "plt.style.use('fivethirtyeight')\n",
    "\n",
    "%matplotlib inline\n",
    "%config InlineBackend.figure_format = 'retina'\n",
    "    "
   ]
  },
  {
   "cell_type": "code",
   "execution_count": 2,
   "metadata": {
    "collapsed": true
   },
   "outputs": [],
   "source": [
    "class Pipeline:   \n",
    "    \n",
    "    gmm = None\n",
    "\n",
    "    given_index=None\n",
    "    a_index=None\n",
    "    \n",
    "    a_scales = None\n",
    "    a_means = None\n",
    "    \n",
    "    a_mins = None\n",
    "    a_maxes = None\n",
    "    \n",
    "    posterior_resolution= None\n",
    "    \n",
    "    def __init__(self,gmm,given_index,a_index,a_means,a_scales,a_mins,a_maxes,posterior_resolution=1000):\n",
    "        self.gmm =gmm\n",
    "        self.given_index=given_index\n",
    "        self.a_index =a_index\n",
    "        self.a_scales=a_scales\n",
    "        self.a_means=a_means\n",
    "        self.a_mins=a_mins\n",
    "        self.a_maxes=a_maxes\n",
    "        self.posterior_resolution=posterior_resolution\n",
    "        \n",
    "    def set_a(self,a_index,a_means,a_scales,a_mins,a_maxes,posterior_resolution=1000):\n",
    "        self.a_index =a_index\n",
    "        self.a_scales=a_scales\n",
    "        self.a_means=a_means\n",
    "        self.a_mins=a_mins\n",
    "        self.a_maxes=a_maxes\n",
    "        self.posterior_resolution=posterior_resolution\n",
    "\n",
    "    def set_given_index(self,given_index):\n",
    "        self.given_index=given_index\n",
    "    \n",
    "    def conditional_multivariate(self,given_val,means,covariances):\n",
    "        \n",
    "        cov_aa = covariances[np.ix_(self.a_index,self.a_index)]\n",
    "        cov_bb = covariances[np.ix_(self.given_index,self.given_index)]\n",
    "        inv_bb = np.linalg.inv(cov_bb)\n",
    "\n",
    "        cov_ab = covariances[np.ix_(self.a_index,self.given_index)]\n",
    "        cov_ba = covariances[np.ix_(self.given_index,self.a_index)]\n",
    "\n",
    "        mean_a = means[np.ix_(self.a_index)]\n",
    "        mean_b = means[np.ix_(self.given_index)]\n",
    "\n",
    "        mean     = mean_a + np.matmul(np.matmul(cov_ab,inv_bb),(given_val-mean_b))\n",
    "        variance = cov_aa - np.matmul(np.matmul(cov_ab,inv_bb),(cov_ba))\n",
    "\n",
    "        return mean , variance\n",
    "\n",
    "\n",
    "    def conditional_gmm_means_variances(self,given_val,means,covariances):\n",
    "\n",
    "        gmm_means =[]\n",
    "        gmm_variances =[]\n",
    "\n",
    "        for i in range(len(means)):\n",
    "            means, variances = self.conditional_multivariate(given_val,self.gmm.means_[i],self.gmm.covariances_[i])\n",
    "            gmm_means.append(means)\n",
    "            gmm_variances.append(variances)\n",
    "\n",
    "        return gmm_means,gmm_variances\n",
    "\n",
    "    def marg_MVnorm(self,MVnorm_obj):\n",
    "\n",
    "        mu_b = MVnorm_obj.mean[np.ix_(self.given_index)]\n",
    "        cov_bb = MVnorm_obj.cov[np.ix_(self.given_index,self.given_index)]\n",
    "\n",
    "        if mu_b.shape[0]>=2:\n",
    "            Mv_marg = multivariate_normal(mu_b,cov_bb )\n",
    "        else:\n",
    "            Mv_marg = norm(mu_b[0],cov_bb[0])\n",
    "\n",
    "\n",
    "        return Mv_marg\n",
    "\n",
    "    def marg_weights(self,MVnorm_objs,given_val):\n",
    "        weights = []\n",
    "        sum =0\n",
    "        for MVnorm_obj in MVnorm_objs:\n",
    "            pdf = MVnorm_obj.pdf(given_val)\n",
    "            weights.append(pdf)\n",
    "            sum+=pdf\n",
    "        return weights/sum\n",
    "\n",
    "    def multivariate_cdf_dif(self,MVnorm_obj,lower_bound,upper_bound):\n",
    "        return MVnorm_obj.cdf(upper_bound)-MVnorm_obj.cdf(lower_bound)\n",
    "\n",
    "    def maxSum(self,arr, n, k): \n",
    "\n",
    "        if (n < k): \n",
    "\n",
    "            print(\"Invalid\") \n",
    "            return -1\n",
    "\n",
    "        max_sum = 0\n",
    "        start_point = 0\n",
    "        for i in range(k): \n",
    "            max_sum += arr[i] \n",
    "\n",
    "\n",
    "        curr_sum = max_sum \n",
    "        for i in range(k, n): \n",
    "\n",
    "            curr_sum += arr[i] - arr[i-k] \n",
    "            if curr_sum > max_sum:\n",
    "                max_sum=curr_sum\n",
    "                start_point = i-k+1\n",
    "\n",
    "        return max_sum,start_point \n",
    "\n",
    "\n",
    "\n",
    "    def get_dist_range(self,upper_bound_range,distribution,percentage):\n",
    "        n = len(distribution) \n",
    "        for i in range(1,n):\n",
    "            max_sum,start_point = self.maxSum(distribution, n, i)\n",
    "            if max_sum>percentage:\n",
    "                return upper_bound_range[start_point],upper_bound_range[start_point+i-1]\n",
    "        return upper_bound_range[start_point],upper_bound_range[start_point+i-1]\n",
    "        \n",
    "    def get_dist_mode(self,dist_range,distribution):\n",
    "        mode,mode_index=0,0\n",
    "        for i in range(len(distribution)):\n",
    "            if distribution[i]>mode:\n",
    "                mode_index,mode=i,distribution[i]\n",
    "        return dist_range[mode_index],mode_index\n",
    "    \n",
    "    def predict_with_cdf(self,given_val):\n",
    "\n",
    "        conditional_mvns =[]\n",
    "        conditional_means , conditional_variances = pipeline.conditional_gmm_means_variances(given_val,self.gmm.means_,self.gmm.covariances_)\n",
    "\n",
    "        marg_mvns = []\n",
    "\n",
    "        for i in range(len(self.gmm.means_)): \n",
    "            mvn = scipy.stats.multivariate_normal(self.gmm.means_[i],self.gmm.covariances_[i])\n",
    "            marg_mvns.append(pipeline.marg_MVnorm(mvn))\n",
    "\n",
    "        weights = pipeline.marg_weights(marg_mvns,given_val)\n",
    "\n",
    "        for i in range(len(conditional_means)):\n",
    "            conditional_mvns.append(scipy.stats.multivariate_normal(conditional_means[i],conditional_variances[i]))\n",
    "\n",
    "        dist_range = np.linspace(self.a_mins,self.a_maxes,self.posterior_resolution)\n",
    "        step_size=dist_range[1]-dist_range[0]\n",
    "        lower_bound_range = dist_range[:-1]\n",
    "        \n",
    "        upper_bound_range = dist_range[1:]\n",
    "        \n",
    "        m2 = np.array([pipeline.multivariate_cdf_dif(conditional_mvns[i],lower_bound_range,upper_bound_range) for i in range(len(conditional_mvns))])\n",
    "        dist = np.dot(m2.T,weights)\n",
    "\n",
    "        dist_mode,mode_index = pipeline.get_dist_mode(dist_range,dist)\n",
    "        return(dist_mode*self.a_scales+self.a_means,dist,mode_index,upper_bound_range*self.a_scales+self.a_means)\n",
    "\n",
    "\n",
    "    def predict_with_pdf(self,given_val):\n",
    "\n",
    "        conditional_mvns =[]\n",
    "        conditional_means , conditional_variances = pipeline.conditional_gmm_means_variances(given_val,self.gmm.means_,self.gmm.covariances_)\n",
    "\n",
    "        marg_mvns = []\n",
    "\n",
    "        for i in range(len(gmm.means_)):\n",
    "            mvn = scipy.stats.multivariate_normal(self.gmm.means_[i],self.gmm.covariances_[i])\n",
    "            marg_mvns.append(pipeline.marg_MVnorm(mvn))\n",
    "\n",
    "        weights = pipeline.marg_weights(marg_mvns,given_val)\n",
    "\n",
    "        for i in range(len(conditional_means)):\n",
    "            conditional_mvns.append(scipy.stats.multivariate_normal(conditional_means[i],conditional_variances[i]))\n",
    "\n",
    "        dist_range = np.linspace(self.a_mins,self.a_maxes,self.posterior_resolution)\n",
    "        step_size=dist_range[1]-dist_range[0]\n",
    "        \n",
    "        m = np.array([conditional_mvns[i].pdf(dist_range) for i in range(len(conditional_mvns))])\n",
    "        dist = np.dot(m.T,weights)\n",
    "\n",
    "        dist_mode,mode_index = pipeline.get_dist_mode(dist_range,dist)\n",
    "        return(dist_mode*self.a_scales+self.a_means,dist,mode_index,dist_range*self.a_scales+self.a_means)\n",
    "\n",
    "#pipeline = Pipeline()"
   ]
  },
  {
   "cell_type": "code",
   "execution_count": 3,
   "metadata": {
    "collapsed": true
   },
   "outputs": [],
   "source": [
    "def map_coordinates(coordinates):\n",
    "    lat,lon =np.array([ float(coord) for coord in coordinates.split(',')])\n",
    "    x = cos(lat) * cos(lon)\n",
    "    y = cos(lat) * sin(lon)\n",
    "    z = sin(lat)\n",
    "    return x,y,z   \n"
   ]
  },
  {
   "cell_type": "code",
   "execution_count": 4,
   "metadata": {},
   "outputs": [
    {
     "ename": "FileNotFoundError",
     "evalue": "File b'riyadh_land_with_poi.csv' does not exist",
     "output_type": "error",
     "traceback": [
      "\u001b[0;31m---------------------------------------------------------------------------\u001b[0m",
      "\u001b[0;31mFileNotFoundError\u001b[0m                         Traceback (most recent call last)",
      "\u001b[0;32m<ipython-input-4-b2f30ddf6c99>\u001b[0m in \u001b[0;36m<module>\u001b[0;34m()\u001b[0m\n\u001b[0;32m----> 1\u001b[0;31m \u001b[0mriyadh_land\u001b[0m \u001b[0;34m=\u001b[0m \u001b[0mpd\u001b[0m\u001b[0;34m.\u001b[0m\u001b[0mread_csv\u001b[0m\u001b[0;34m(\u001b[0m\u001b[0;34m\"riyadh_land_with_poi.csv\"\u001b[0m\u001b[0;34m)\u001b[0m\u001b[0;34m\u001b[0m\u001b[0;34m\u001b[0m\u001b[0m\n\u001b[0m\u001b[1;32m      2\u001b[0m \u001b[0mriyadh_land\u001b[0m\u001b[0;34m=\u001b[0m\u001b[0mriyadh_land\u001b[0m\u001b[0;34m[\u001b[0m\u001b[0;34m(\u001b[0m\u001b[0mriyadh_land\u001b[0m\u001b[0;34m[\u001b[0m\u001b[0;34m'meter_price'\u001b[0m\u001b[0;34m]\u001b[0m\u001b[0;34m<\u001b[0m\u001b[0;36m7000\u001b[0m\u001b[0;34m)\u001b[0m\u001b[0;34m&\u001b[0m\u001b[0;34m(\u001b[0m\u001b[0mriyadh_land\u001b[0m\u001b[0;34m[\u001b[0m\u001b[0;34m'meter_price'\u001b[0m\u001b[0;34m]\u001b[0m\u001b[0;34m>\u001b[0m\u001b[0;36m50\u001b[0m\u001b[0;34m)\u001b[0m\u001b[0;34m]\u001b[0m\u001b[0;34m\u001b[0m\u001b[0;34m\u001b[0m\u001b[0m\n\u001b[1;32m      3\u001b[0m \u001b[0mriyadh_land\u001b[0m\u001b[0;34m[\u001b[0m\u001b[0;34m'x'\u001b[0m\u001b[0;34m]\u001b[0m\u001b[0;34m,\u001b[0m\u001b[0mriyadh_land\u001b[0m\u001b[0;34m[\u001b[0m\u001b[0;34m'y'\u001b[0m\u001b[0;34m]\u001b[0m\u001b[0;34m,\u001b[0m\u001b[0mriyadh_land\u001b[0m\u001b[0;34m[\u001b[0m\u001b[0;34m'z'\u001b[0m\u001b[0;34m]\u001b[0m\u001b[0;34m=\u001b[0m\u001b[0mriyadh_land\u001b[0m\u001b[0;34m.\u001b[0m\u001b[0mlocation_str\u001b[0m\u001b[0;34m.\u001b[0m\u001b[0mmap\u001b[0m\u001b[0;34m(\u001b[0m\u001b[0;32mlambda\u001b[0m \u001b[0mx\u001b[0m\u001b[0;34m:\u001b[0m \u001b[0mmap_coordinates\u001b[0m\u001b[0;34m(\u001b[0m\u001b[0mx\u001b[0m\u001b[0;34m)\u001b[0m\u001b[0;34m[\u001b[0m\u001b[0;36m0\u001b[0m\u001b[0;34m]\u001b[0m\u001b[0;34m)\u001b[0m\u001b[0;34m,\u001b[0m\u001b[0mriyadh_land\u001b[0m\u001b[0;34m.\u001b[0m\u001b[0mlocation_str\u001b[0m\u001b[0;34m.\u001b[0m\u001b[0mmap\u001b[0m\u001b[0;34m(\u001b[0m\u001b[0;32mlambda\u001b[0m \u001b[0mx\u001b[0m\u001b[0;34m:\u001b[0m \u001b[0mmap_coordinates\u001b[0m\u001b[0;34m(\u001b[0m\u001b[0mx\u001b[0m\u001b[0;34m)\u001b[0m\u001b[0;34m[\u001b[0m\u001b[0;36m1\u001b[0m\u001b[0;34m]\u001b[0m\u001b[0;34m)\u001b[0m\u001b[0;34m,\u001b[0m\u001b[0mriyadh_land\u001b[0m\u001b[0;34m.\u001b[0m\u001b[0mlocation_str\u001b[0m\u001b[0;34m.\u001b[0m\u001b[0mmap\u001b[0m\u001b[0;34m(\u001b[0m\u001b[0;32mlambda\u001b[0m \u001b[0mx\u001b[0m\u001b[0;34m:\u001b[0m \u001b[0mmap_coordinates\u001b[0m\u001b[0;34m(\u001b[0m\u001b[0mx\u001b[0m\u001b[0;34m)\u001b[0m\u001b[0;34m[\u001b[0m\u001b[0;36m2\u001b[0m\u001b[0;34m]\u001b[0m\u001b[0;34m)\u001b[0m\u001b[0;34m\u001b[0m\u001b[0;34m\u001b[0m\u001b[0m\n",
      "\u001b[0;32m~/anaconda3/lib/python3.6/site-packages/pandas/io/parsers.py\u001b[0m in \u001b[0;36mparser_f\u001b[0;34m(filepath_or_buffer, sep, delimiter, header, names, index_col, usecols, squeeze, prefix, mangle_dupe_cols, dtype, engine, converters, true_values, false_values, skipinitialspace, skiprows, nrows, na_values, keep_default_na, na_filter, verbose, skip_blank_lines, parse_dates, infer_datetime_format, keep_date_col, date_parser, dayfirst, iterator, chunksize, compression, thousands, decimal, lineterminator, quotechar, quoting, escapechar, comment, encoding, dialect, tupleize_cols, error_bad_lines, warn_bad_lines, skipfooter, skip_footer, doublequote, delim_whitespace, as_recarray, compact_ints, use_unsigned, low_memory, buffer_lines, memory_map, float_precision)\u001b[0m\n\u001b[1;32m    653\u001b[0m                     skip_blank_lines=skip_blank_lines)\n\u001b[1;32m    654\u001b[0m \u001b[0;34m\u001b[0m\u001b[0m\n\u001b[0;32m--> 655\u001b[0;31m         \u001b[0;32mreturn\u001b[0m \u001b[0m_read\u001b[0m\u001b[0;34m(\u001b[0m\u001b[0mfilepath_or_buffer\u001b[0m\u001b[0;34m,\u001b[0m \u001b[0mkwds\u001b[0m\u001b[0;34m)\u001b[0m\u001b[0;34m\u001b[0m\u001b[0;34m\u001b[0m\u001b[0m\n\u001b[0m\u001b[1;32m    656\u001b[0m \u001b[0;34m\u001b[0m\u001b[0m\n\u001b[1;32m    657\u001b[0m     \u001b[0mparser_f\u001b[0m\u001b[0;34m.\u001b[0m\u001b[0m__name__\u001b[0m \u001b[0;34m=\u001b[0m \u001b[0mname\u001b[0m\u001b[0;34m\u001b[0m\u001b[0;34m\u001b[0m\u001b[0m\n",
      "\u001b[0;32m~/anaconda3/lib/python3.6/site-packages/pandas/io/parsers.py\u001b[0m in \u001b[0;36m_read\u001b[0;34m(filepath_or_buffer, kwds)\u001b[0m\n\u001b[1;32m    403\u001b[0m \u001b[0;34m\u001b[0m\u001b[0m\n\u001b[1;32m    404\u001b[0m     \u001b[0;31m# Create the parser.\u001b[0m\u001b[0;34m\u001b[0m\u001b[0;34m\u001b[0m\u001b[0;34m\u001b[0m\u001b[0m\n\u001b[0;32m--> 405\u001b[0;31m     \u001b[0mparser\u001b[0m \u001b[0;34m=\u001b[0m \u001b[0mTextFileReader\u001b[0m\u001b[0;34m(\u001b[0m\u001b[0mfilepath_or_buffer\u001b[0m\u001b[0;34m,\u001b[0m \u001b[0;34m**\u001b[0m\u001b[0mkwds\u001b[0m\u001b[0;34m)\u001b[0m\u001b[0;34m\u001b[0m\u001b[0;34m\u001b[0m\u001b[0m\n\u001b[0m\u001b[1;32m    406\u001b[0m \u001b[0;34m\u001b[0m\u001b[0m\n\u001b[1;32m    407\u001b[0m     \u001b[0;32mif\u001b[0m \u001b[0mchunksize\u001b[0m \u001b[0;32mor\u001b[0m \u001b[0miterator\u001b[0m\u001b[0;34m:\u001b[0m\u001b[0;34m\u001b[0m\u001b[0;34m\u001b[0m\u001b[0m\n",
      "\u001b[0;32m~/anaconda3/lib/python3.6/site-packages/pandas/io/parsers.py\u001b[0m in \u001b[0;36m__init__\u001b[0;34m(self, f, engine, **kwds)\u001b[0m\n\u001b[1;32m    762\u001b[0m             \u001b[0mself\u001b[0m\u001b[0;34m.\u001b[0m\u001b[0moptions\u001b[0m\u001b[0;34m[\u001b[0m\u001b[0;34m'has_index_names'\u001b[0m\u001b[0;34m]\u001b[0m \u001b[0;34m=\u001b[0m \u001b[0mkwds\u001b[0m\u001b[0;34m[\u001b[0m\u001b[0;34m'has_index_names'\u001b[0m\u001b[0;34m]\u001b[0m\u001b[0;34m\u001b[0m\u001b[0;34m\u001b[0m\u001b[0m\n\u001b[1;32m    763\u001b[0m \u001b[0;34m\u001b[0m\u001b[0m\n\u001b[0;32m--> 764\u001b[0;31m         \u001b[0mself\u001b[0m\u001b[0;34m.\u001b[0m\u001b[0m_make_engine\u001b[0m\u001b[0;34m(\u001b[0m\u001b[0mself\u001b[0m\u001b[0;34m.\u001b[0m\u001b[0mengine\u001b[0m\u001b[0;34m)\u001b[0m\u001b[0;34m\u001b[0m\u001b[0;34m\u001b[0m\u001b[0m\n\u001b[0m\u001b[1;32m    765\u001b[0m \u001b[0;34m\u001b[0m\u001b[0m\n\u001b[1;32m    766\u001b[0m     \u001b[0;32mdef\u001b[0m \u001b[0mclose\u001b[0m\u001b[0;34m(\u001b[0m\u001b[0mself\u001b[0m\u001b[0;34m)\u001b[0m\u001b[0;34m:\u001b[0m\u001b[0;34m\u001b[0m\u001b[0;34m\u001b[0m\u001b[0m\n",
      "\u001b[0;32m~/anaconda3/lib/python3.6/site-packages/pandas/io/parsers.py\u001b[0m in \u001b[0;36m_make_engine\u001b[0;34m(self, engine)\u001b[0m\n\u001b[1;32m    983\u001b[0m     \u001b[0;32mdef\u001b[0m \u001b[0m_make_engine\u001b[0m\u001b[0;34m(\u001b[0m\u001b[0mself\u001b[0m\u001b[0;34m,\u001b[0m \u001b[0mengine\u001b[0m\u001b[0;34m=\u001b[0m\u001b[0;34m'c'\u001b[0m\u001b[0;34m)\u001b[0m\u001b[0;34m:\u001b[0m\u001b[0;34m\u001b[0m\u001b[0;34m\u001b[0m\u001b[0m\n\u001b[1;32m    984\u001b[0m         \u001b[0;32mif\u001b[0m \u001b[0mengine\u001b[0m \u001b[0;34m==\u001b[0m \u001b[0;34m'c'\u001b[0m\u001b[0;34m:\u001b[0m\u001b[0;34m\u001b[0m\u001b[0;34m\u001b[0m\u001b[0m\n\u001b[0;32m--> 985\u001b[0;31m             \u001b[0mself\u001b[0m\u001b[0;34m.\u001b[0m\u001b[0m_engine\u001b[0m \u001b[0;34m=\u001b[0m \u001b[0mCParserWrapper\u001b[0m\u001b[0;34m(\u001b[0m\u001b[0mself\u001b[0m\u001b[0;34m.\u001b[0m\u001b[0mf\u001b[0m\u001b[0;34m,\u001b[0m \u001b[0;34m**\u001b[0m\u001b[0mself\u001b[0m\u001b[0;34m.\u001b[0m\u001b[0moptions\u001b[0m\u001b[0;34m)\u001b[0m\u001b[0;34m\u001b[0m\u001b[0;34m\u001b[0m\u001b[0m\n\u001b[0m\u001b[1;32m    986\u001b[0m         \u001b[0;32melse\u001b[0m\u001b[0;34m:\u001b[0m\u001b[0;34m\u001b[0m\u001b[0;34m\u001b[0m\u001b[0m\n\u001b[1;32m    987\u001b[0m             \u001b[0;32mif\u001b[0m \u001b[0mengine\u001b[0m \u001b[0;34m==\u001b[0m \u001b[0;34m'python'\u001b[0m\u001b[0;34m:\u001b[0m\u001b[0;34m\u001b[0m\u001b[0;34m\u001b[0m\u001b[0m\n",
      "\u001b[0;32m~/anaconda3/lib/python3.6/site-packages/pandas/io/parsers.py\u001b[0m in \u001b[0;36m__init__\u001b[0;34m(self, src, **kwds)\u001b[0m\n\u001b[1;32m   1603\u001b[0m         \u001b[0mkwds\u001b[0m\u001b[0;34m[\u001b[0m\u001b[0;34m'allow_leading_cols'\u001b[0m\u001b[0;34m]\u001b[0m \u001b[0;34m=\u001b[0m \u001b[0mself\u001b[0m\u001b[0;34m.\u001b[0m\u001b[0mindex_col\u001b[0m \u001b[0;32mis\u001b[0m \u001b[0;32mnot\u001b[0m \u001b[0;32mFalse\u001b[0m\u001b[0;34m\u001b[0m\u001b[0;34m\u001b[0m\u001b[0m\n\u001b[1;32m   1604\u001b[0m \u001b[0;34m\u001b[0m\u001b[0m\n\u001b[0;32m-> 1605\u001b[0;31m         \u001b[0mself\u001b[0m\u001b[0;34m.\u001b[0m\u001b[0m_reader\u001b[0m \u001b[0;34m=\u001b[0m \u001b[0mparsers\u001b[0m\u001b[0;34m.\u001b[0m\u001b[0mTextReader\u001b[0m\u001b[0;34m(\u001b[0m\u001b[0msrc\u001b[0m\u001b[0;34m,\u001b[0m \u001b[0;34m**\u001b[0m\u001b[0mkwds\u001b[0m\u001b[0;34m)\u001b[0m\u001b[0;34m\u001b[0m\u001b[0;34m\u001b[0m\u001b[0m\n\u001b[0m\u001b[1;32m   1606\u001b[0m \u001b[0;34m\u001b[0m\u001b[0m\n\u001b[1;32m   1607\u001b[0m         \u001b[0;31m# XXX\u001b[0m\u001b[0;34m\u001b[0m\u001b[0;34m\u001b[0m\u001b[0;34m\u001b[0m\u001b[0m\n",
      "\u001b[0;32mpandas/_libs/parsers.pyx\u001b[0m in \u001b[0;36mpandas._libs.parsers.TextReader.__cinit__ (pandas/_libs/parsers.c:4209)\u001b[0;34m()\u001b[0m\n",
      "\u001b[0;32mpandas/_libs/parsers.pyx\u001b[0m in \u001b[0;36mpandas._libs.parsers.TextReader._setup_parser_source (pandas/_libs/parsers.c:8873)\u001b[0;34m()\u001b[0m\n",
      "\u001b[0;31mFileNotFoundError\u001b[0m: File b'riyadh_land_with_poi.csv' does not exist"
     ]
    }
   ],
   "source": [
    "riyadh_land = pd.read_csv(\"riyadh_land_with_poi.csv\")\n",
    "riyadh_land=riyadh_land[(riyadh_land['meter_price']<7000)&(riyadh_land['meter_price']>50)]\n",
    "riyadh_land['x'],riyadh_land['y'],riyadh_land['z']=riyadh_land.location_str.map(lambda x: map_coordinates(x)[0]),riyadh_land.location_str.map(lambda x: map_coordinates(x)[1]),riyadh_land.location_str.map(lambda x: map_coordinates(x)[2])"
   ]
  },
  {
   "cell_type": "code",
   "execution_count": 6,
   "metadata": {
    "collapsed": true
   },
   "outputs": [],
   "source": [
    "all_columns = ['x','y','z','location_str','hospitals','schools','meter_price']\n",
    "\n",
    "given_columns = ['x','y','z','hospitals','schools']\n",
    "a_columns = ['meter_price']\n",
    "\n",
    "gmm_columns=given_columns+a_columns\n",
    "\n",
    "X = riyadh_land[all_columns]\n",
    "ss = StandardScaler()\n",
    "\n",
    "X_train, X_test= train_test_split(X, test_size=0.33, random_state=42)\n",
    "\n",
    "X_train_location = X_train.location_str.values\n",
    "X_test_location = X_test.location_str.values\n",
    "\n",
    "y_train = X_train.meter_price\n",
    "y_test  = X_test.meter_price\n",
    "\n",
    "X_train = X_train[gmm_columns]\n",
    "X_test = X_test[gmm_columns]\n",
    "\n",
    "X_train = ss.fit_transform(X_train)\n",
    "X_test = ss.transform(X_test)\n",
    "\n",
    "X_train=pd.DataFrame(X_train,columns=gmm_columns)\n",
    "X_test=pd.DataFrame(X_test,columns=gmm_columns)\n"
   ]
  },
  {
   "cell_type": "code",
   "execution_count": 7,
   "metadata": {},
   "outputs": [
    {
     "data": {
      "text/html": [
       "<div>\n",
       "<style>\n",
       "    .dataframe thead tr:only-child th {\n",
       "        text-align: right;\n",
       "    }\n",
       "\n",
       "    .dataframe thead th {\n",
       "        text-align: left;\n",
       "    }\n",
       "\n",
       "    .dataframe tbody tr th {\n",
       "        vertical-align: top;\n",
       "    }\n",
       "</style>\n",
       "<table border=\"1\" class=\"dataframe\">\n",
       "  <thead>\n",
       "    <tr style=\"text-align: right;\">\n",
       "      <th></th>\n",
       "      <th>x</th>\n",
       "      <th>y</th>\n",
       "      <th>z</th>\n",
       "      <th>hospitals</th>\n",
       "      <th>schools</th>\n",
       "      <th>meter_price</th>\n",
       "    </tr>\n",
       "  </thead>\n",
       "  <tbody>\n",
       "    <tr>\n",
       "      <th>0</th>\n",
       "      <td>-0.742036</td>\n",
       "      <td>0.145938</td>\n",
       "      <td>0.959383</td>\n",
       "      <td>-0.246897</td>\n",
       "      <td>-1.070419</td>\n",
       "      <td>-0.667289</td>\n",
       "    </tr>\n",
       "    <tr>\n",
       "      <th>1</th>\n",
       "      <td>-0.420859</td>\n",
       "      <td>0.103036</td>\n",
       "      <td>0.374988</td>\n",
       "      <td>1.979300</td>\n",
       "      <td>1.223022</td>\n",
       "      <td>0.361331</td>\n",
       "    </tr>\n",
       "    <tr>\n",
       "      <th>2</th>\n",
       "      <td>0.402285</td>\n",
       "      <td>0.941528</td>\n",
       "      <td>0.143281</td>\n",
       "      <td>-0.432414</td>\n",
       "      <td>0.225874</td>\n",
       "      <td>0.361331</td>\n",
       "    </tr>\n",
       "    <tr>\n",
       "      <th>3</th>\n",
       "      <td>0.214727</td>\n",
       "      <td>0.504346</td>\n",
       "      <td>-0.077185</td>\n",
       "      <td>0.680685</td>\n",
       "      <td>0.824163</td>\n",
       "      <td>0.875641</td>\n",
       "    </tr>\n",
       "    <tr>\n",
       "      <th>4</th>\n",
       "      <td>-0.435761</td>\n",
       "      <td>0.553199</td>\n",
       "      <td>0.940753</td>\n",
       "      <td>-0.617930</td>\n",
       "      <td>-0.521987</td>\n",
       "      <td>-0.527022</td>\n",
       "    </tr>\n",
       "  </tbody>\n",
       "</table>\n",
       "</div>"
      ],
      "text/plain": [
       "          x         y         z  hospitals   schools  meter_price\n",
       "0 -0.742036  0.145938  0.959383  -0.246897 -1.070419    -0.667289\n",
       "1 -0.420859  0.103036  0.374988   1.979300  1.223022     0.361331\n",
       "2  0.402285  0.941528  0.143281  -0.432414  0.225874     0.361331\n",
       "3  0.214727  0.504346 -0.077185   0.680685  0.824163     0.875641\n",
       "4 -0.435761  0.553199  0.940753  -0.617930 -0.521987    -0.527022"
      ]
     },
     "execution_count": 7,
     "metadata": {},
     "output_type": "execute_result"
    }
   ],
   "source": [
    "X_train.head()"
   ]
  },
  {
   "cell_type": "code",
   "execution_count": 8,
   "metadata": {
    "collapsed": true
   },
   "outputs": [],
   "source": [
    "gmm = GaussianMixture(n_components=80,max_iter=500,random_state=42).fit(X_train)"
   ]
  },
  {
   "cell_type": "code",
   "execution_count": 9,
   "metadata": {
    "collapsed": true
   },
   "outputs": [],
   "source": [
    "index_dict = {column:i for i,column in enumerate(gmm_columns)}"
   ]
  },
  {
   "cell_type": "code",
   "execution_count": 10,
   "metadata": {
    "collapsed": true
   },
   "outputs": [],
   "source": [
    "given_index=[index_dict[column] for column in given_columns]\n",
    "a_index=[index_dict[column] for column in a_columns]\n",
    "ss.mean_[np.ix_(a_index)]\n",
    "a_min = X_test[a_columns].min()\n",
    "a_max = X_test[a_columns].max()\n",
    "pipeline = Pipeline(gmm,given_index,a_index,ss.mean_[np.ix_(a_index)],ss.scale_[np.ix_(a_index)],a_min,a_max)"
   ]
  },
  {
   "cell_type": "code",
   "execution_count": 11,
   "metadata": {},
   "outputs": [
    {
     "data": {
      "text/plain": [
       "([0, 1, 2], [5])"
      ]
     },
     "execution_count": 11,
     "metadata": {},
     "output_type": "execute_result"
    }
   ],
   "source": [
    "pipeline.set_given_index([0,1,2])\n",
    "pipeline.given_index,pipeline.a_index"
   ]
  },
  {
   "cell_type": "code",
   "execution_count": 82,
   "metadata": {
    "collapsed": true
   },
   "outputs": [],
   "source": [
    "a_tag = 'schools'\n",
    "a_index = index_dict[a_tag]\n",
    "a={\n",
    "\"a_index\" : [a_index],\n",
    "\"a_means\" : ss.mean_[a_index],\n",
    "\"a_scales\": ss.scale_[a_index],\n",
    "\"a_mins\"  : X_train[[a_tag]].values.min(),\n",
    "\"a_maxes\" : X_train[[a_tag]].values.max()\n",
    "}\n",
    "pipeline.set_a(**a)\n"
   ]
  },
  {
   "cell_type": "code",
   "execution_count": 86,
   "metadata": {},
   "outputs": [
    {
     "data": {
      "text/plain": [
       "{'a_index': [4],\n",
       " 'a_maxes': 2.170312543737802,\n",
       " 'a_means': 36.46960249415432,\n",
       " 'a_mins': -1.8182796457938497,\n",
       " 'a_scales': 20.05720219027801}"
      ]
     },
     "execution_count": 86,
     "metadata": {},
     "output_type": "execute_result"
    }
   ],
   "source": [
    "a\n",
    "    "
   ]
  },
  {
   "cell_type": "code",
   "execution_count": null,
   "metadata": {
    "collapsed": true
   },
   "outputs": [],
   "source": []
  },
  {
   "cell_type": "code",
   "execution_count": 13,
   "metadata": {},
   "outputs": [
    {
     "data": {
      "text/plain": [
       "(80, 6, 6)"
      ]
     },
     "execution_count": 13,
     "metadata": {},
     "output_type": "execute_result"
    }
   ],
   "source": [
    "(gmm.covariances_).shape"
   ]
  },
  {
   "cell_type": "code",
   "execution_count": 14,
   "metadata": {},
   "outputs": [
    {
     "data": {
      "text/plain": [
       "<matplotlib.axes._subplots.AxesSubplot at 0x1a1dad6390>"
      ]
     },
     "execution_count": 14,
     "metadata": {},
     "output_type": "execute_result"
    },
    {
     "data": {
      "image/png": "[encoded data removed]",
      "text/plain": [
       "<Figure size 432x288 with 1 Axes>"
      ]
     },
     "metadata": {
      "image/png": {
       "height": 244,
       "width": 408
      }
     },
     "output_type": "display_data"
    }
   ],
   "source": [
    "sns.scatterplot(list(zip(*gmm.means_))[0],list(zip(*gmm.means_))[1])"
   ]
  },
  {
   "cell_type": "code",
   "execution_count": 15,
   "metadata": {},
   "outputs": [
    {
     "data": {
      "text/plain": [
       "array([2600., 5500., 1500., ..., 2500., 1700., 3500.])"
      ]
     },
     "execution_count": 15,
     "metadata": {},
     "output_type": "execute_result"
    }
   ],
   "source": [
    "#y_test = X_test.meter_price*ss.scale_[3]+ss.mean_[3]\n",
    "#X_test=X_test[X_test.iloc(given_index,)]\n",
    "#X_test.head()\n",
    "y_test.values"
   ]
  },
  {
   "cell_type": "code",
   "execution_count": 16,
   "metadata": {},
   "outputs": [
    {
     "name": "stdout",
     "output_type": "stream",
     "text": [
      "0\n",
      "100\n",
      "200\n",
      "300\n",
      "400\n",
      "500\n",
      "600\n",
      "700\n",
      "800\n",
      "900\n",
      "1000\n",
      "1100\n",
      "1200\n",
      "1300\n",
      "1400\n",
      "1500\n",
      "1600\n",
      "1700\n",
      "1800\n",
      "1900\n",
      "2000\n",
      "2100\n",
      "2200\n",
      "2300\n",
      "2400\n",
      "2500\n",
      "2600\n",
      "2700\n",
      "2800\n",
      "2900\n",
      "3000\n",
      "3100\n",
      "3200\n",
      "3300\n",
      "3400\n",
      "3500\n",
      "3600\n",
      "3700\n",
      "3800\n",
      "3900\n",
      "4000\n",
      "4100\n",
      "4200\n",
      "4300\n",
      "4400\n",
      "4500\n",
      "4600\n",
      "4700\n",
      "4800\n",
      "4900\n",
      "5000\n"
     ]
    }
   ],
   "source": [
    "y_hat_test =[]\n",
    "y_true_test=[]\n",
    "\n",
    "for i,observation in enumerate(X_test.values):\n",
    "    if i%100==0:\n",
    "        print(i)\n",
    "    #print(observation[np.ix_(pipeline.given_index)])\n",
    "    prediction,dist,prediction_index,predicted_range = pipeline.predict_with_pdf(observation[np.ix_(pipeline.given_index)])\n",
    "    y_hat_test.append(prediction)\n",
    "    y_true_test.append(X_test.values[i][np.ix_(pipeline.a_index)]*ss.scale_[np.ix_(pipeline.a_index)]+ss.mean_[np.ix_(pipeline.a_index)])\n",
    "    #print(\"y_hat {} y {}\".format(prediction,y_true_test[-1]))\n",
    "\n"
   ]
  },
  {
   "cell_type": "code",
   "execution_count": null,
   "metadata": {
    "collapsed": true
   },
   "outputs": [],
   "source": []
  },
  {
   "cell_type": "code",
   "execution_count": 19,
   "metadata": {},
   "outputs": [
    {
     "data": {
      "text/plain": [
       "0.31783094058900785"
      ]
     },
     "execution_count": 19,
     "metadata": {},
     "output_type": "execute_result"
    }
   ],
   "source": [
    "from sklearn.metrics import r2_score\n",
    "r2_score(y_hat_test,y_true_test)\n",
    "#observations = []\n",
    "#for observation in (X_test.values):\n",
    "#    observations.append(observation)"
   ]
  },
  {
   "cell_type": "code",
   "execution_count": 21,
   "metadata": {},
   "outputs": [
    {
     "data": {
      "text/plain": [
       "0.5564841258330706"
      ]
     },
     "execution_count": 21,
     "metadata": {},
     "output_type": "execute_result"
    }
   ],
   "source": [
    "r2_score(y_true_test, y_hat_test)"
   ]
  },
  {
   "cell_type": "code",
   "execution_count": 22,
   "metadata": {},
   "outputs": [
    {
     "data": {
      "text/plain": [
       "387.87794360816514"
      ]
     },
     "execution_count": 22,
     "metadata": {},
     "output_type": "execute_result"
    }
   ],
   "source": [
    "from sklearn.metrics import mean_absolute_error\n",
    "mean_absolute_error(y_test.values, y_hat_test)#,np.mean(np.abs((y_test.values - y_hat_test) / y_test.values)) * 100"
   ]
  },
  {
   "cell_type": "code",
   "execution_count": 23,
   "metadata": {},
   "outputs": [
    {
     "data": {
      "text/plain": [
       "0    1200.0\n",
       "1    2300.0\n",
       "2    2300.0\n",
       "3    2850.0\n",
       "4    1350.0\n",
       "Name: meter_price, dtype: float64"
      ]
     },
     "execution_count": 23,
     "metadata": {},
     "output_type": "execute_result"
    }
   ],
   "source": [
    "y_train = X_train.meter_price*pipeline.a_scales+pipeline.a_means\n",
    "y_train.head()"
   ]
  },
  {
   "cell_type": "code",
   "execution_count": 24,
   "metadata": {
    "collapsed": true
   },
   "outputs": [],
   "source": [
    "X_train.meter_price = (X_train.meter_price- ss.mean_[3])/ss.scale_[3]"
   ]
  },
  {
   "cell_type": "code",
   "execution_count": 25,
   "metadata": {},
   "outputs": [
    {
     "data": {
      "text/html": [
       "<div>\n",
       "<style>\n",
       "    .dataframe thead tr:only-child th {\n",
       "        text-align: right;\n",
       "    }\n",
       "\n",
       "    .dataframe thead th {\n",
       "        text-align: left;\n",
       "    }\n",
       "\n",
       "    .dataframe tbody tr th {\n",
       "        vertical-align: top;\n",
       "    }\n",
       "</style>\n",
       "<table border=\"1\" class=\"dataframe\">\n",
       "  <thead>\n",
       "    <tr style=\"text-align: right;\">\n",
       "      <th></th>\n",
       "      <th>x</th>\n",
       "      <th>y</th>\n",
       "      <th>z</th>\n",
       "      <th>hospitals</th>\n",
       "      <th>schools</th>\n",
       "      <th>meter_price</th>\n",
       "    </tr>\n",
       "  </thead>\n",
       "  <tbody>\n",
       "    <tr>\n",
       "      <th>0</th>\n",
       "      <td>0.063706</td>\n",
       "      <td>0.662906</td>\n",
       "      <td>0.285012</td>\n",
       "      <td>0.866201</td>\n",
       "      <td>1.073450</td>\n",
       "      <td>0.641863</td>\n",
       "    </tr>\n",
       "    <tr>\n",
       "      <th>1</th>\n",
       "      <td>0.397087</td>\n",
       "      <td>0.503154</td>\n",
       "      <td>-0.293803</td>\n",
       "      <td>-0.061381</td>\n",
       "      <td>0.126159</td>\n",
       "      <td>3.353679</td>\n",
       "    </tr>\n",
       "    <tr>\n",
       "      <th>2</th>\n",
       "      <td>-1.160375</td>\n",
       "      <td>-1.725404</td>\n",
       "      <td>-0.041166</td>\n",
       "      <td>-0.246897</td>\n",
       "      <td>0.674590</td>\n",
       "      <td>-0.386756</td>\n",
       "    </tr>\n",
       "    <tr>\n",
       "      <th>3</th>\n",
       "      <td>2.226432</td>\n",
       "      <td>1.238813</td>\n",
       "      <td>-1.359753</td>\n",
       "      <td>-1.174480</td>\n",
       "      <td>-1.618850</td>\n",
       "      <td>-1.228354</td>\n",
       "    </tr>\n",
       "    <tr>\n",
       "      <th>4</th>\n",
       "      <td>-0.715846</td>\n",
       "      <td>-0.064342</td>\n",
       "      <td>0.658957</td>\n",
       "      <td>0.124136</td>\n",
       "      <td>-0.023413</td>\n",
       "      <td>-0.012713</td>\n",
       "    </tr>\n",
       "  </tbody>\n",
       "</table>\n",
       "</div>"
      ],
      "text/plain": [
       "          x         y         z  hospitals   schools  meter_price\n",
       "0  0.063706  0.662906  0.285012   0.866201  1.073450     0.641863\n",
       "1  0.397087  0.503154 -0.293803  -0.061381  0.126159     3.353679\n",
       "2 -1.160375 -1.725404 -0.041166  -0.246897  0.674590    -0.386756\n",
       "3  2.226432  1.238813 -1.359753  -1.174480 -1.618850    -1.228354\n",
       "4 -0.715846 -0.064342  0.658957   0.124136 -0.023413    -0.012713"
      ]
     },
     "execution_count": 25,
     "metadata": {},
     "output_type": "execute_result"
    }
   ],
   "source": [
    "X_test.head()"
   ]
  },
  {
   "cell_type": "code",
   "execution_count": 26,
   "metadata": {},
   "outputs": [
    {
     "data": {
      "text/html": [
       "<div>\n",
       "<style>\n",
       "    .dataframe thead tr:only-child th {\n",
       "        text-align: right;\n",
       "    }\n",
       "\n",
       "    .dataframe thead th {\n",
       "        text-align: left;\n",
       "    }\n",
       "\n",
       "    .dataframe tbody tr th {\n",
       "        vertical-align: top;\n",
       "    }\n",
       "</style>\n",
       "<table border=\"1\" class=\"dataframe\">\n",
       "  <thead>\n",
       "    <tr style=\"text-align: right;\">\n",
       "      <th></th>\n",
       "      <th>x</th>\n",
       "      <th>y</th>\n",
       "      <th>z</th>\n",
       "      <th>hospitals</th>\n",
       "      <th>schools</th>\n",
       "      <th>meter_price</th>\n",
       "    </tr>\n",
       "  </thead>\n",
       "  <tbody>\n",
       "    <tr>\n",
       "      <th>0</th>\n",
       "      <td>-0.742036</td>\n",
       "      <td>0.145938</td>\n",
       "      <td>0.959383</td>\n",
       "      <td>-0.246897</td>\n",
       "      <td>-1.070419</td>\n",
       "      <td>-1.669305</td>\n",
       "    </tr>\n",
       "    <tr>\n",
       "      <th>1</th>\n",
       "      <td>-0.420859</td>\n",
       "      <td>0.103036</td>\n",
       "      <td>0.374988</td>\n",
       "      <td>1.979300</td>\n",
       "      <td>1.223022</td>\n",
       "      <td>-1.478480</td>\n",
       "    </tr>\n",
       "    <tr>\n",
       "      <th>2</th>\n",
       "      <td>0.402285</td>\n",
       "      <td>0.941528</td>\n",
       "      <td>0.143281</td>\n",
       "      <td>-0.432414</td>\n",
       "      <td>0.225874</td>\n",
       "      <td>-1.478480</td>\n",
       "    </tr>\n",
       "    <tr>\n",
       "      <th>3</th>\n",
       "      <td>0.214727</td>\n",
       "      <td>0.504346</td>\n",
       "      <td>-0.077185</td>\n",
       "      <td>0.680685</td>\n",
       "      <td>0.824163</td>\n",
       "      <td>-1.383067</td>\n",
       "    </tr>\n",
       "    <tr>\n",
       "      <th>4</th>\n",
       "      <td>-0.435761</td>\n",
       "      <td>0.553199</td>\n",
       "      <td>0.940753</td>\n",
       "      <td>-0.617930</td>\n",
       "      <td>-0.521987</td>\n",
       "      <td>-1.643284</td>\n",
       "    </tr>\n",
       "  </tbody>\n",
       "</table>\n",
       "</div>"
      ],
      "text/plain": [
       "          x         y         z  hospitals   schools  meter_price\n",
       "0 -0.742036  0.145938  0.959383  -0.246897 -1.070419    -1.669305\n",
       "1 -0.420859  0.103036  0.374988   1.979300  1.223022    -1.478480\n",
       "2  0.402285  0.941528  0.143281  -0.432414  0.225874    -1.478480\n",
       "3  0.214727  0.504346 -0.077185   0.680685  0.824163    -1.383067\n",
       "4 -0.435761  0.553199  0.940753  -0.617930 -0.521987    -1.643284"
      ]
     },
     "execution_count": 26,
     "metadata": {},
     "output_type": "execute_result"
    }
   ],
   "source": [
    "X_train.head()"
   ]
  },
  {
   "cell_type": "code",
   "execution_count": 27,
   "metadata": {
    "collapsed": true
   },
   "outputs": [],
   "source": [
    "X_train2 =X_train.drop(['meter_price'],axis=1)"
   ]
  },
  {
   "cell_type": "code",
   "execution_count": 66,
   "metadata": {},
   "outputs": [
    {
     "name": "stdout",
     "output_type": "stream",
     "text": [
      "[0, 1, 2]\n",
      "0: y_hat 13.767767767767769 y 13.0\n",
      "1: y_hat 8.426426426426428 y 8.0\n",
      "2: y_hat 7.942942942942944 y 7.0\n",
      "3: y_hat 1.864864864864864 y 2.0\n",
      "4: y_hat 11.994994994994995 y 9.0\n",
      "5: y_hat 2.5095095095095106 y 2.0\n",
      "6: y_hat 12.04104104104104 y 11.0\n",
      "7: y_hat 5.341341341341341 y 5.0\n",
      "8: y_hat 1.5425425425425425 y 2.0\n",
      "9: y_hat 5.502502502502503 y 6.0\n"
     ]
    }
   ],
   "source": [
    "y_hat_train =[]\n",
    "y_true_train=[]\n",
    "print(pipeline.given_index)\n",
    "for i,observation in enumerate(X_test.values[0:10]):\n",
    "    prediction,dist,prediction_index,predicted_range = pipeline.predict_with_pdf(observation[np.ix_(pipeline.given_index)])\n",
    "    y_true_train.append((observation[3]*ss.scale_[3]+ss.mean_[3]))\n",
    "    y_hat_train.append(prediction)\n",
    "    print(\"{}: y_hat {} y {}\".format(i,prediction,y_true_train[-1]))"
   ]
  },
  {
   "cell_type": "code",
   "execution_count": 31,
   "metadata": {},
   "outputs": [
    {
     "data": {
      "text/plain": [
       "Index(['x', 'y', 'z', 'hospitals', 'schools', 'meter_price'], dtype='object')"
      ]
     },
     "execution_count": 31,
     "metadata": {},
     "output_type": "execute_result"
    }
   ],
   "source": [
    "X_train.columns"
   ]
  },
  {
   "cell_type": "code",
   "execution_count": 16,
   "metadata": {},
   "outputs": [
    {
     "name": "stdout",
     "output_type": "stream",
     "text": [
      "0\n",
      "100\n",
      "200\n",
      "300\n",
      "400\n",
      "500\n",
      "600\n",
      "700\n",
      "800\n",
      "900\n",
      "1000\n",
      "1100\n",
      "1200\n",
      "1300\n",
      "1400\n",
      "1500\n",
      "1600\n",
      "1700\n",
      "1800\n",
      "1900\n",
      "2000\n",
      "2100\n",
      "2200\n",
      "2300\n",
      "2400\n",
      "2500\n",
      "2600\n",
      "2700\n",
      "2800\n",
      "2900\n",
      "3000\n",
      "3100\n",
      "3200\n",
      "3300\n",
      "3400\n",
      "3500\n",
      "3600\n",
      "3700\n",
      "3800\n",
      "3900\n",
      "4000\n",
      "4100\n",
      "4200\n",
      "4300\n",
      "4400\n",
      "4500\n",
      "4600\n",
      "4700\n",
      "4800\n"
     ]
    }
   ],
   "source": [
    "my_dict={}\n",
    "credible_region=0.95\n",
    "for i, coordinate in enumerate(scaled_coordinates):\n",
    "    if(i%100==0):\n",
    "        print(i)\n",
    "    is_error=False\n",
    "    lat,lng = X_test_location[i].split(',')\n",
    "    lat,lng= round(float(lat),4),round(float(lng),4)\n",
    "    prediction,dist,prediction_index,predicted_range = pipeline.predict_with_cdf(coordinate)\n",
    "    #sns.set(rc={'figure.figsize':(11.7,8.27)})\n",
    "    #ax=sns.lineplot(predicted_range,dist)\n",
    "    \n",
    "    try:\n",
    "        min_credible,max_credible = pipeline.get_dist_range(predicted_range,dist,credible_region)\n",
    "    \n",
    "    except:\n",
    "        is_error=True\n",
    "        print(\"error took place with entry {}\".format(i))\n",
    "        print(\"predicted_dist {}\".format(credible_region))\n",
    "        \n",
    "    classification_entry ={'lat':lat,'lng':lng,'y_hat':prediction,#'distribution':dist,\n",
    "                           'min_credible':min_credible,\"max_credible\":max_credible,\n",
    "                           \"credible_region\":credible_region,\"y_true\":y_test.values[i],\n",
    "                           \"error\":is_error,\n",
    "                          \"inside_credible_region\": (y_test.values[i]>min_credible and y_test.values[i]<max_credible)}\n",
    "    my_dict[i]=classification_entry\n",
    "    #ax.axvline(prediction, lw=3, ls='dashed', color='green',label='y_hat={}'.format(np.round(prediction,2)))\n",
    "    #ax.axvline(X_test.values[i][np.ix_(pipeline.a_index)]*ss.scale_[np.ix_(pipeline.a_index)]+ss.mean_[np.ix_(pipeline.a_index)], lw=3, ls='dashed', color='red',label='y_true={}'.format(X_test.values[i][np.ix_(pipeline.a_index)]*ss.scale_[np.ix_(pipeline.a_index)]+ss.mean_[np.ix_(pipeline.a_index)]))\n",
    "    #ax.axvline(min_credible, lw=2, ls='dashed', color='magenta',label='0.95 Credible Region\\nmin={} max={}'.format(round(min_credible,2),round(max_credible,2)))\n",
    "    #ax.axvline(max_credible, lw=2, ls='dashed', color='magenta')\n",
    "    #ax.set_xlabel(\"{}\".format(a_tag.capitalize()),fontsize=14)\n",
    "    #ax.set_ylabel(\"P({} | (lat = {} , lng = {})) \".format(a_tag.capitalize(),lat,lng),fontsize=14)\n",
    "    #ax.legend();\n",
    "    #fig = ax.get_figure();\n",
    "    #plt.figure();\n",
    "    #fig.savefig(\"test__{}.png\".format(i)) \n",
    "    #ax=None\n"
   ]
  },
  {
   "cell_type": "code",
   "execution_count": 17,
   "metadata": {
    "collapsed": true
   },
   "outputs": [],
   "source": [
    "my_dict2 = pd.DataFrame(my_dict).T"
   ]
  },
  {
   "cell_type": "code",
   "execution_count": 18,
   "metadata": {
    "collapsed": true
   },
   "outputs": [],
   "source": [
    "my_dict2.to_csv('price_credible_region_2019_feb_7_2.csv',index=False)\n",
    "#pipeline.get_dist_range(predicted_range,dist,credible_region)\n"
   ]
  },
  {
   "cell_type": "code",
   "execution_count": null,
   "metadata": {
    "collapsed": true
   },
   "outputs": [],
   "source": [
    "!ls"
   ]
  },
  {
   "cell_type": "code",
   "execution_count": 36,
   "metadata": {},
   "outputs": [
    {
     "name": "stdout",
     "output_type": "stream",
     "text": [
      "y_hat [2731.97597598] y 2600.0\n",
      "y_hat [3676.21621622] y 5500.0\n",
      "y_hat [1475.3033033] y 1500.0\n",
      "y_hat [885.15315315] y 600.0\n",
      "y_hat [1891.87987988] y 1900.0\n",
      "y_hat [1107.32732733] y 850.0\n",
      "y_hat [1891.87987988] y 2000.0\n",
      "y_hat [1468.36036036] y 2500.0\n",
      "y_hat [1218.41441441] y 1800.0\n",
      "y_hat [1572.5045045] y 3500.0\n",
      "y_hat [2370.94294294] y 2600.0\n",
      "y_hat [1537.78978979] y 3000.0\n",
      "y_hat [1496.13213213] y 1550.0\n",
      "y_hat [2495.91591592] y 1900.0\n",
      "y_hat [1378.1021021] y 900.0\n",
      "y_hat [218.63063063] y 197.0\n",
      "y_hat [2551.45945946] y 2067.0\n",
      "y_hat [315.83183183] y 193.0\n",
      "y_hat [267.23123123] y 125.0\n",
      "y_hat [1697.47747748] y 1300.0\n",
      "y_hat [1232.3003003] y 1200.0\n",
      "y_hat [1461.41741742] y 1300.0\n",
      "y_hat [1308.67267267] y 2100.0\n",
      "y_hat [2662.54654655] y 2750.0\n",
      "y_hat [2502.85885886] y 2700.0\n",
      "y_hat [2197.36936937] y 5500.0\n",
      "y_hat [3426.27027027] y 4000.0\n",
      "y_hat [1246.18618619] y 1200.0\n",
      "y_hat [892.0960961] y 1000.0\n",
      "y_hat [1975.1951952] y 1700.0\n",
      "y_hat [1391.98798799] y 1300.0\n",
      "y_hat [1447.53153153] y 1400.0\n",
      "y_hat [2343.17117117] y 2550.0\n",
      "y_hat [2245.96996997] y 2300.0\n",
      "y_hat [2183.48348348] y 1850.0\n",
      "y_hat [2107.11111111] y 3800.0\n",
      "y_hat [239.45945946] y 125.0\n",
      "y_hat [1121.21321321] y 1150.0\n",
      "y_hat [3252.6966967] y 2500.0\n",
      "y_hat [1211.47147147] y 1000.0\n",
      "y_hat [808.78078078] y 670.0\n",
      "y_hat [4044.19219219] y 5000.0\n",
      "y_hat [843.4954955] y 150.0\n",
      "y_hat [3197.15315315] y 3200.0\n",
      "y_hat [3023.57957958] y 2750.0\n",
      "y_hat [2030.73873874] y 2200.0\n",
      "y_hat [510.23423423] y 300.0\n",
      "y_hat [2100.16816817] y 2000.0\n",
      "y_hat [579.66366366] y 800.0\n",
      "y_hat [2488.97297297] y 2300.0\n"
     ]
    }
   ],
   "source": [
    "for i,observation in enumerate(X_test.values[:50]):\n",
    "    prediction = pipeline.predict_with_pdf(observation[0:3])\n",
    "    print(\"y_hat {} y {}\".format(prediction[0],y_test.values[i]))"
   ]
  },
  {
   "cell_type": "code",
   "execution_count": null,
   "metadata": {
    "collapsed": true
   },
   "outputs": [],
   "source": [
    "X_train = X_train[['x','y','z']]"
   ]
  },
  {
   "cell_type": "code",
   "execution_count": 48,
   "metadata": {},
   "outputs": [
    {
     "data": {
      "text/plain": [
       "0       2600.0\n",
       "1       5500.0\n",
       "2       1500.0\n",
       "3        600.0\n",
       "4       1900.0\n",
       "5        850.0\n",
       "6       2000.0\n",
       "7       2500.0\n",
       "8       1800.0\n",
       "9       3500.0\n",
       "10      2600.0\n",
       "11      3000.0\n",
       "12      1550.0\n",
       "13      1900.0\n",
       "14       900.0\n",
       "15       197.0\n",
       "16      2067.0\n",
       "17       193.0\n",
       "18       125.0\n",
       "19      1300.0\n",
       "20      1200.0\n",
       "21      1300.0\n",
       "22      2100.0\n",
       "23      2750.0\n",
       "24      2700.0\n",
       "25      5500.0\n",
       "26      4000.0\n",
       "27      1200.0\n",
       "28      1000.0\n",
       "29      1700.0\n",
       "         ...  \n",
       "5026    3900.0\n",
       "5027    1600.0\n",
       "5028    3400.0\n",
       "5029    3500.0\n",
       "5030    1050.0\n",
       "5031     175.0\n",
       "5032    1500.0\n",
       "5033    1300.0\n",
       "5034    1666.0\n",
       "5035    1700.0\n",
       "5036    3000.0\n",
       "5037    1800.0\n",
       "5038    1450.0\n",
       "5039     500.0\n",
       "5040    1200.0\n",
       "5041    1400.0\n",
       "5042    2200.0\n",
       "5043    2200.0\n",
       "5044    4000.0\n",
       "5045    1700.0\n",
       "5046    6500.0\n",
       "5047    1066.0\n",
       "5048    1000.0\n",
       "5049    2000.0\n",
       "5050    2100.0\n",
       "5051    1500.0\n",
       "5052    1600.0\n",
       "5053    2500.0\n",
       "5054    1700.0\n",
       "5055    3500.0\n",
       "Name: meter_price, Length: 5056, dtype: float64"
      ]
     },
     "execution_count": 48,
     "metadata": {},
     "output_type": "execute_result"
    }
   ],
   "source": [
    "target"
   ]
  },
  {
   "cell_type": "code",
   "execution_count": 2,
   "metadata": {},
   "outputs": [
    {
     "ename": "NameError",
     "evalue": "name 'r2_score' is not defined",
     "output_type": "error",
     "traceback": [
      "\u001b[0;31m---------------------------------------------------------------------------\u001b[0m",
      "\u001b[0;31mNameError\u001b[0m                                 Traceback (most recent call last)",
      "\u001b[0;32m<ipython-input-2-2604c56b5325>\u001b[0m in \u001b[0;36m<module>\u001b[0;34m()\u001b[0m\n\u001b[0;32m----> 1\u001b[0;31m \u001b[0mr2_score\u001b[0m\u001b[0;34m(\u001b[0m\u001b[0my_hat_train\u001b[0m\u001b[0;34m,\u001b[0m\u001b[0my_true_train\u001b[0m\u001b[0;34m)\u001b[0m\u001b[0;34m\u001b[0m\u001b[0;34m\u001b[0m\u001b[0m\n\u001b[0m",
      "\u001b[0;31mNameError\u001b[0m: name 'r2_score' is not defined"
     ]
    }
   ],
   "source": [
    "r2_score(y_hat_train,y_true_train)"
   ]
  },
  {
   "cell_type": "code",
   "execution_count": null,
   "metadata": {
    "collapsed": true
   },
   "outputs": [],
   "source": []
  },
  {
   "cell_type": "code",
   "execution_count": 12,
   "metadata": {
    "collapsed": true
   },
   "outputs": [],
   "source": [
    "lat_range = np.linspace(24.456595, 24.893182,70)\n",
    "lng_range = np.linspace(46.530205, 46.816401,70)\n",
    "coordinates=[]\n",
    "for lat in lat_range:\n",
    "    for lng in lng_range:\n",
    "        coordinates.append((str(lat)+\",\"+str(lng)))"
   ]
  },
  {
   "cell_type": "code",
   "execution_count": 103,
   "metadata": {
    "collapsed": true
   },
   "outputs": [],
   "source": [
    "predictions = {}"
   ]
  },
  {
   "cell_type": "code",
   "execution_count": 14,
   "metadata": {
    "collapsed": true
   },
   "outputs": [],
   "source": [
    "coordinates=[]\n",
    "for lat in lat_range:\n",
    "    for lng in lng_range:\n",
    "        coordinates.append(map_coordinates(str(lat)+\",\"+str(lng)))\n",
    "         #prediction,dist,prediction_index,predicted_range = pipeline.predict_with_pdf(lat,lng)\n",
    "\n",
    "       "
   ]
  },
  {
   "cell_type": "code",
   "execution_count": 15,
   "metadata": {
    "collapsed": true
   },
   "outputs": [],
   "source": [
    "scaled_coordinates = (coordinates-ss.mean_[np.ix_([0,1,2])])/ss.scale_[np.ix_([0,1,2])]\n",
    "#pipeline.given_index = [0,1,2]"
   ]
  },
  {
   "cell_type": "code",
   "execution_count": 106,
   "metadata": {},
   "outputs": [
    {
     "name": "stdout",
     "output_type": "stream",
     "text": [
      "1 10000\n",
      "101 10000\n",
      "201 10000\n",
      "301 10000\n",
      "401 10000\n",
      "501 10000\n",
      "601 10000\n",
      "701 10000\n",
      "801 10000\n",
      "901 10000\n",
      "1001 10000\n",
      "1101 10000\n",
      "1201 10000\n",
      "1301 10000\n",
      "1401 10000\n",
      "1501 10000\n",
      "1601 10000\n",
      "1701 10000\n",
      "1801 10000\n",
      "1901 10000\n",
      "2001 10000\n",
      "2101 10000\n",
      "2201 10000\n",
      "2301 10000\n",
      "2401 10000\n",
      "2501 10000\n",
      "2601 10000\n",
      "2701 10000\n",
      "2801 10000\n",
      "2901 10000\n",
      "3001 10000\n",
      "3101 10000\n",
      "3201 10000\n",
      "3301 10000\n",
      "3401 10000\n",
      "3501 10000\n",
      "3601 10000\n",
      "3701 10000\n",
      "3801 10000\n",
      "3901 10000\n",
      "4001 10000\n",
      "4101 10000\n",
      "4201 10000\n",
      "4301 10000\n",
      "4401 10000\n",
      "4501 10000\n",
      "4601 10000\n",
      "4701 10000\n",
      "4801 10000\n",
      "4901 10000\n",
      "5001 10000\n",
      "5101 10000\n",
      "5201 10000\n",
      "5301 10000\n",
      "5401 10000\n",
      "5501 10000\n",
      "5601 10000\n",
      "5701 10000\n",
      "5801 10000\n",
      "5901 10000\n",
      "6001 10000\n",
      "6101 10000\n",
      "6201 10000\n",
      "6301 10000\n",
      "6401 10000\n",
      "6501 10000\n",
      "6601 10000\n",
      "6701 10000\n",
      "6801 10000\n",
      "6901 10000\n",
      "7001 10000\n",
      "7101 10000\n",
      "7201 10000\n",
      "7301 10000\n",
      "7401 10000\n",
      "7501 10000\n",
      "7601 10000\n",
      "7701 10000\n",
      "7801 10000\n",
      "7901 10000\n",
      "8001 10000\n",
      "8101 10000\n",
      "8201 10000\n",
      "8301 10000\n",
      "8401 10000\n",
      "8501 10000\n",
      "8601 10000\n",
      "8701 10000\n",
      "8801 10000\n",
      "8901 10000\n",
      "9001 10000\n",
      "9101 10000\n",
      "9201 10000\n",
      "9301 10000\n",
      "9401 10000\n",
      "9501 10000\n",
      "9601 10000\n",
      "9701 10000\n",
      "9801 10000\n",
      "9901 10000\n"
     ]
    }
   ],
   "source": [
    "my_dict={}\n",
    "for i, coordinate in enumerate(scaled_coordinates):\n",
    "    if i%100 == True:\n",
    "        print(i,len(coordinates))\n",
    "    prediction,dist,prediction_index,predicted_range = pipeline.predict_with_pdf(coordinate)\n",
    "    my_dict[i]={\n",
    "        'coordinates':coordinates[i],\n",
    "        'prediction':prediction\n",
    "        \n",
    "    }"
   ]
  },
  {
   "cell_type": "code",
   "execution_count": 107,
   "metadata": {
    "collapsed": true
   },
   "outputs": [],
   "source": [
    "heat_map_predictions =pd.DataFrame(my_dict).T"
   ]
  },
  {
   "cell_type": "code",
   "execution_count": 108,
   "metadata": {},
   "outputs": [
    {
     "data": {
      "text/plain": [
       "numpy.float64"
      ]
     },
     "execution_count": 108,
     "metadata": {},
     "output_type": "execute_result"
    }
   ],
   "source": [
    "type(heat_map_predictions.prediction[0][0])"
   ]
  },
  {
   "cell_type": "code",
   "execution_count": 109,
   "metadata": {
    "collapsed": true
   },
   "outputs": [],
   "source": [
    "def to_float(x):\n",
    "     return float((x[0]))"
   ]
  },
  {
   "cell_type": "code",
   "execution_count": 110,
   "metadata": {
    "collapsed": true
   },
   "outputs": [],
   "source": [
    "predictions = heat_map_predictions.prediction.map(to_float)"
   ]
  },
  {
   "cell_type": "code",
   "execution_count": 111,
   "metadata": {
    "collapsed": true
   },
   "outputs": [],
   "source": [
    "heat_map_predictions.prediction = predictions"
   ]
  },
  {
   "cell_type": "code",
   "execution_count": 112,
   "metadata": {},
   "outputs": [
    {
     "data": {
      "text/html": [
       "<div>\n",
       "<style>\n",
       "    .dataframe thead tr:only-child th {\n",
       "        text-align: right;\n",
       "    }\n",
       "\n",
       "    .dataframe thead th {\n",
       "        text-align: left;\n",
       "    }\n",
       "\n",
       "    .dataframe tbody tr th {\n",
       "        vertical-align: top;\n",
       "    }\n",
       "</style>\n",
       "<table border=\"1\" class=\"dataframe\">\n",
       "  <thead>\n",
       "    <tr style=\"text-align: right;\">\n",
       "      <th></th>\n",
       "      <th>coordinates</th>\n",
       "      <th>prediction</th>\n",
       "    </tr>\n",
       "  </thead>\n",
       "  <tbody>\n",
       "    <tr>\n",
       "      <th>0</th>\n",
       "      <td>(-0.6465221162532484, 0.4363413891071544, -0.6...</td>\n",
       "      <td>281.117117</td>\n",
       "    </tr>\n",
       "    <tr>\n",
       "      <th>1</th>\n",
       "      <td>(-0.6477808186247073, 0.43447055789137656, -0....</td>\n",
       "      <td>281.117117</td>\n",
       "    </tr>\n",
       "    <tr>\n",
       "      <th>2</th>\n",
       "      <td>(-0.6490341074167584, 0.432596095754772, -0.62...</td>\n",
       "      <td>281.117117</td>\n",
       "    </tr>\n",
       "    <tr>\n",
       "      <th>3</th>\n",
       "      <td>(-0.6502819721555216, 0.4307180183624379, -0.6...</td>\n",
       "      <td>274.174174</td>\n",
       "    </tr>\n",
       "    <tr>\n",
       "      <th>4</th>\n",
       "      <td>(-0.6515244024124469, 0.42883634140968496, -0....</td>\n",
       "      <td>274.174174</td>\n",
       "    </tr>\n",
       "  </tbody>\n",
       "</table>\n",
       "</div>"
      ],
      "text/plain": [
       "                                         coordinates  prediction\n",
       "0  (-0.6465221162532484, 0.4363413891071544, -0.6...  281.117117\n",
       "1  (-0.6477808186247073, 0.43447055789137656, -0....  281.117117\n",
       "2  (-0.6490341074167584, 0.432596095754772, -0.62...  281.117117\n",
       "3  (-0.6502819721555216, 0.4307180183624379, -0.6...  274.174174\n",
       "4  (-0.6515244024124469, 0.42883634140968496, -0....  274.174174"
      ]
     },
     "execution_count": 112,
     "metadata": {},
     "output_type": "execute_result"
    }
   ],
   "source": [
    "heat_map_predictions.head()"
   ]
  },
  {
   "cell_type": "code",
   "execution_count": 90,
   "metadata": {
    "collapsed": true
   },
   "outputs": [],
   "source": [
    "heat_map_predictions.to_csv(\"heat_map_predictions.csv\",index=False)"
   ]
  },
  {
   "cell_type": "code",
   "execution_count": 115,
   "metadata": {
    "collapsed": true
   },
   "outputs": [],
   "source": [
    "lats,lngs=[],[]\n",
    "for c in coordinates:\n",
    "    lat,lng = c.split(',')\n",
    "    lats.append(lat)\n",
    "    lngs.append(lng)"
   ]
  },
  {
   "cell_type": "code",
   "execution_count": 116,
   "metadata": {
    "collapsed": true
   },
   "outputs": [],
   "source": [
    "heat_map_predictions['lat']=lats"
   ]
  },
  {
   "cell_type": "code",
   "execution_count": 117,
   "metadata": {
    "collapsed": true
   },
   "outputs": [],
   "source": [
    "heat_map_predictions['lng']=lngs"
   ]
  },
  {
   "cell_type": "code",
   "execution_count": 118,
   "metadata": {
    "collapsed": true
   },
   "outputs": [],
   "source": [
    "heat_map_predictions.to_csv(\"heat_map_predictions_lat_lng.csv\",index=False)"
   ]
  },
  {
   "cell_type": "code",
   "execution_count": 119,
   "metadata": {},
   "outputs": [
    {
     "data": {
      "text/html": [
       "<div>\n",
       "<style>\n",
       "    .dataframe thead tr:only-child th {\n",
       "        text-align: right;\n",
       "    }\n",
       "\n",
       "    .dataframe thead th {\n",
       "        text-align: left;\n",
       "    }\n",
       "\n",
       "    .dataframe tbody tr th {\n",
       "        vertical-align: top;\n",
       "    }\n",
       "</style>\n",
       "<table border=\"1\" class=\"dataframe\">\n",
       "  <thead>\n",
       "    <tr style=\"text-align: right;\">\n",
       "      <th></th>\n",
       "      <th>coordinates</th>\n",
       "      <th>prediction</th>\n",
       "      <th>lat</th>\n",
       "      <th>lng</th>\n",
       "    </tr>\n",
       "  </thead>\n",
       "  <tbody>\n",
       "    <tr>\n",
       "      <th>0</th>\n",
       "      <td>(-0.6465221162532484, 0.4363413891071544, -0.6...</td>\n",
       "      <td>281.117117</td>\n",
       "      <td>24.456595</td>\n",
       "      <td>46.530205</td>\n",
       "    </tr>\n",
       "    <tr>\n",
       "      <th>1</th>\n",
       "      <td>(-0.6477808186247073, 0.43447055789137656, -0....</td>\n",
       "      <td>281.117117</td>\n",
       "      <td>24.456595</td>\n",
       "      <td>46.53309586868687</td>\n",
       "    </tr>\n",
       "    <tr>\n",
       "      <th>2</th>\n",
       "      <td>(-0.6490341074167584, 0.432596095754772, -0.62...</td>\n",
       "      <td>281.117117</td>\n",
       "      <td>24.456595</td>\n",
       "      <td>46.53598673737374</td>\n",
       "    </tr>\n",
       "    <tr>\n",
       "      <th>3</th>\n",
       "      <td>(-0.6502819721555216, 0.4307180183624379, -0.6...</td>\n",
       "      <td>274.174174</td>\n",
       "      <td>24.456595</td>\n",
       "      <td>46.53887760606061</td>\n",
       "    </tr>\n",
       "    <tr>\n",
       "      <th>4</th>\n",
       "      <td>(-0.6515244024124469, 0.42883634140968496, -0....</td>\n",
       "      <td>274.174174</td>\n",
       "      <td>24.456595</td>\n",
       "      <td>46.54176847474748</td>\n",
       "    </tr>\n",
       "  </tbody>\n",
       "</table>\n",
       "</div>"
      ],
      "text/plain": [
       "                                         coordinates  prediction        lat  \\\n",
       "0  (-0.6465221162532484, 0.4363413891071544, -0.6...  281.117117  24.456595   \n",
       "1  (-0.6477808186247073, 0.43447055789137656, -0....  281.117117  24.456595   \n",
       "2  (-0.6490341074167584, 0.432596095754772, -0.62...  281.117117  24.456595   \n",
       "3  (-0.6502819721555216, 0.4307180183624379, -0.6...  274.174174  24.456595   \n",
       "4  (-0.6515244024124469, 0.42883634140968496, -0....  274.174174  24.456595   \n",
       "\n",
       "                 lng  \n",
       "0          46.530205  \n",
       "1  46.53309586868687  \n",
       "2  46.53598673737374  \n",
       "3  46.53887760606061  \n",
       "4  46.54176847474748  "
      ]
     },
     "execution_count": 119,
     "metadata": {},
     "output_type": "execute_result"
    }
   ],
   "source": [
    "heat_map_predictions.head()"
   ]
  },
  {
   "cell_type": "code",
   "execution_count": null,
   "metadata": {
    "collapsed": true
   },
   "outputs": [],
   "source": []
  }
 ],
 "metadata": {
  "kernelspec": {
   "display_name": "Python 3",
   "language": "python",
   "name": "python3"
  },
  "language_info": {
   "codemirror_mode": {
    "name": "ipython",
    "version": 3
   },
   "file_extension": ".py",
   "mimetype": "text/x-python",
   "name": "python",
   "nbconvert_exporter": "python",
   "pygments_lexer": "ipython3",
   "version": "3.6.8"
  }
 },
 "nbformat": 4,
 "nbformat_minor": 2
}
