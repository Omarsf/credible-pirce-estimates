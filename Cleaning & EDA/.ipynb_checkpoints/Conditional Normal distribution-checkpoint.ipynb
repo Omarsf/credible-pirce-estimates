{
 "cells": [
  {
   "cell_type": "code",
   "execution_count": 202,
   "metadata": {
    "collapsed": true
   },
   "outputs": [],
   "source": [
    "import numpy as np\n",
    "from scipy import random, linalg\n",
    "from scipy.stats import multivariate_normal\n",
    "from scipy.stats.distributions import norm\n",
    "import matplotlib.pyplot as plt"
   ]
  },
  {
   "cell_type": "code",
   "execution_count": 14,
   "metadata": {},
   "outputs": [
    {
     "data": {
      "image/png": "[encoded data removed]",
      "text/plain": [
       "<Figure size 432x288 with 1 Axes>"
      ]
     },
     "metadata": {
      "needs_background": "light"
     },
     "output_type": "display_data"
    }
   ],
   "source": [
    "x, y = np.mgrid[-1:1:.01, -1:1:.01]\n",
    "pos = np.empty(x.shape + (2,))\n",
    "pos[:, :, 0] = x; pos[:, :, 1] = y\n",
    "rv = multivariate_normal([0.5, -0.2], [[2.0, 0.3], [0.3, 0.5]])\n",
    "plt.contourf(x, y, rv.pdf(pos));"
   ]
  },
  {
   "cell_type": "code",
   "execution_count": 223,
   "metadata": {
    "collapsed": true
   },
   "outputs": [],
   "source": [
    "def cond_MVnorm(MVnorm_obj, given_val, given_ind):\n",
    "    \"\"\"\n",
    "    MVnorm_object: \n",
    "    given_val:\n",
    "    given_ind:\n",
    "    \"\"\"\n",
    "    n_vars  =len(MVnorm_obj.mean)\n",
    "    inds = np.arange(0,n_vars)\n",
    "    mask_mu = np.ones_like(MVnorm_obj.mean,dtype =bool)\n",
    "    mask_mu[given_ind] = 0\n",
    "    mu_a = MVnorm_obj.mean[mask_mu]\n",
    "    mu_b = MVnorm_obj.mean[given_ind]\n",
    "    cov_aa = MVnorm_obj.cov[np.ix_(inds[mask_mu],inds[mask_mu])]\n",
    "    cov_bb = MVnorm_obj.cov[np.ix_(given_ind,given_ind)]\n",
    "    cov_ab = MVnorm_obj.cov[np.ix_(inds[mask_mu],given_ind)]\n",
    "    \n",
    "    if n_vars>=2:\n",
    "        inv_cov_bb = inv(cov_bb)\n",
    "    else:\n",
    "        inv_cov_bb = 1/cov_bb\n",
    "   \n",
    "    \n",
    "    mu_a_b = mu_a + np.matmul(np.matmul(cov_ab,inv(cov_bb)),given_val-mu_b)\n",
    "    cov_a_b = cov_aa - np.matmul(np.matmul(cov_ab,inv(cov_bb)),cov_ab.T)\n",
    "    \n",
    "    \n",
    "    if mu_a_b.shape[0]>=2:\n",
    "        Mv_cond = multivariate_normal(np.squeeze(mu_a_b),cov_a_b )\n",
    "    else:\n",
    "        Mv_cond = norm(mu_a_b[0],cov_a_b[0])\n",
    "        \n",
    "    return Mv_cond\n",
    "def conditional_multivariate(self,given_val,means,covariances):\n",
    "        \n",
    "        cov_aa = covariances[np.ix_(self.a_index,self.a_index)]#np.delete(np.delete(covariances, self.given_index, axis=0),self.given_index,axis=1)\n",
    "        cov_bb = covariances[np.ix_(self.given_index,self.given_index)]#np.delete(np.delete(covariances, self.a_index, axis=0),self.a_index,axis=1)\n",
    "        inv_bb = np.linalg.inv(cov_bb)\n",
    "\n",
    "        cov_ab = covariances[np.ix_(self.a_index,self.given_index)]#np.delete(np.delete(covariances,self.a_index,axis=1),self.given_index,axis=0)\n",
    "        cov_ba = covariances[np.ix_(self.given_index,self.a_index)]#np.delete(np.delete(covariances,self.a_index,axis=0),self.given_index,axis=1)\n",
    "\n",
    "        mean_a = means[np.ix_(self.a_index)]#np.delete(means,self.given_index)\n",
    "        mean_b = means[np.ix_(self.given_index)]#np.delete(means,self.a_index)\n",
    "\n",
    "        mean     = mean_a + np.matmul(np.matmul(cov_ab,inv_bb),(given_val-mean_b))\n",
    "        variance = cov_aa - np.matmul(np.matmul(cov_ab,inv_bb),(cov_ba))\n",
    "\n",
    "        return mean , variance\n",
    "\n",
    "\n"
   ]
  },
  {
   "cell_type": "code",
   "execution_count": 233,
   "metadata": {
    "collapsed": true
   },
   "outputs": [],
   "source": [
    "# Creating positive semidefinite matrix\n",
    "matrixSize = 5\n",
    "A = random.rand(matrixSize,matrixSize)\n",
    "B = np.dot(A,A.transpose()\n",
    "           \n",
    "# Multivariate Normal object\n",
    "MVnorm_obj = multivariate_normal(np.random.randn(matrixSize), B)\n",
    "given_val = [0.1, 0.4]\n",
    "given_ind = [2,4]"
   ]
  },
  {
   "cell_type": "code",
   "execution_count": 234,
   "metadata": {
    "collapsed": true,
    "scrolled": true
   },
   "outputs": [],
   "source": [
    "Mv_cond = cond_MVnorm(MVnorm_obj, given_val, given_ind)"
   ]
  },
  {
   "cell_type": "code",
   "execution_count": 235,
   "metadata": {},
   "outputs": [
    {
     "data": {
      "text/plain": [
       "array([[ 0.54769028,  0.26922214, -0.24088794],\n",
       "       [ 0.26922214,  0.19645776, -0.0534118 ],\n",
       "       [-0.24088794, -0.0534118 ,  0.17679587]])"
      ]
     },
     "execution_count": 235,
     "metadata": {},
     "output_type": "execute_result"
    }
   ],
   "source": [
    "Mv_cond.mean"
   ]
  },
  {
   "cell_type": "code",
   "execution_count": null,
   "metadata": {
    "collapsed": true
   },
   "outputs": [],
   "source": []
  }
 ],
 "metadata": {
  "kernelspec": {
   "display_name": "Python 3",
   "language": "python",
   "name": "python3"
  },
  "language_info": {
   "codemirror_mode": {
    "name": "ipython",
    "version": 3
   },
   "file_extension": ".py",
   "mimetype": "text/x-python",
   "name": "python",
   "nbconvert_exporter": "python",
   "pygments_lexer": "ipython3",
   "version": "3.6.8"
  }
 },
 "nbformat": 4,
 "nbformat_minor": 2
}
